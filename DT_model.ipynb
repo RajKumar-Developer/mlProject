{
 "cells": [
  {
   "cell_type": "code",
   "execution_count": 1,
   "metadata": {},
   "outputs": [],
   "source": [
    "import numpy as np\n",
    "import pandas as pd\n",
    "import os\n",
    "import cv2\n",
    "\n",
    "Covid = os.listdir(\"C:\\\\Users\\\\shrey\\\\Desktop\\\\Amrita Vishwa Vidyapeetham\\\\Semester 5\\\\19CSE305\\\\ml mini project\\\\Covid19-dataset\\\\test\\\\Covid\")\n",
    "Normal=os.listdir(\"C:\\\\Users\\\\shrey\\\\Desktop\\\\Amrita Vishwa Vidyapeetham\\\\Semester 5\\\\19CSE305\\\\ml mini project\\\\Covid19-dataset\\\\test\\\\Normal\")\n",
    "\n"
   ]
  },
  {
   "cell_type": "code",
   "execution_count": 2,
   "metadata": {},
   "outputs": [],
   "source": [
    "train_dir = r\"C:\\\\Users\\\\shrey\\\\Desktop\\\\Amrita Vishwa Vidyapeetham\\\\Semester 5\\\\19CSE305\\\\ml mini project\\\\Covid19-dataset\\\\train\\\\\"\n",
    "test_dir = r\"C:\\\\Users\\\\shrey\\\\Desktop\\\\Amrita Vishwa Vidyapeetham\\\\Semester 5\\\\19CSE305\\\\ml mini project\\\\Covid19-dataset\\\\test\\\\\"\n"
   ]
  },
  {
   "cell_type": "code",
   "execution_count": 3,
   "metadata": {},
   "outputs": [],
   "source": [
    "categories = ['Covid','Normal']\n",
    "y_train = []\n",
    "x_train = []\n",
    "x_test = []\n",
    "y_test = []\n",
    "Batch_Size = 32\n",
    "INIT_LR = 1e-4\n",
    "EPOCHES = 10\n",
    "\n",
    "\n",
    "for category in categories:\n",
    "    path = os.path.join(train_dir,category)\n",
    "    for img in os.listdir(path):\n",
    "        img_path = os.path.join(path,img)\n",
    "        image = cv2.imread(img_path)\n",
    "        image = cv2.resize(image,(500,500))\n",
    "        image = image / 255\n",
    "        x_train.append(image)\n",
    "        y_train.append(category)\n",
    "\n",
    "\n",
    "for category in categories:\n",
    "    path = os.path.join(test_dir,category)\n",
    "    for img in os.listdir(path):\n",
    "        img_path = os.path.join(path,img)\n",
    "        image = cv2.imread(img_path)\n",
    "        image = cv2.resize(image,(500,500))\n",
    "        image = image / 255\n",
    "        x_test.append(image)\n",
    "        y_test.append(category)\n"
   ]
  },
  {
   "cell_type": "code",
   "execution_count": 4,
   "metadata": {},
   "outputs": [
    {
     "name": "stdout",
     "output_type": "stream",
     "text": [
      "Accuracy:  0.8333333333333334\n",
      "\n",
      "Classification Report:\n",
      "               precision    recall  f1-score   support\n",
      "\n",
      "           0       0.82      0.88      0.85        26\n",
      "           1       0.85      0.77      0.81        22\n",
      "\n",
      "   micro avg       0.83      0.83      0.83        48\n",
      "   macro avg       0.84      0.83      0.83        48\n",
      "weighted avg       0.83      0.83      0.83        48\n",
      " samples avg       0.83      0.83      0.83        48\n",
      "\n"
     ]
    }
   ],
   "source": [
    "from sklearn.model_selection import train_test_split,GridSearchCV, cross_val_score\n",
    "from sklearn.preprocessing import StandardScaler\n",
    "from sklearn.tree import DecisionTreeClassifier\n",
    "from sklearn.metrics import classification_report, accuracy_score\n",
    "from sklearn.preprocessing import LabelBinarizer\n",
    "from tensorflow.keras.utils import to_categorical\n",
    "\n",
    "\n",
    "# 1. Feature Extraction: Flatten the image pixels\n",
    "x_train_flat = [image.flatten() for image in x_train]\n",
    "x_test_flat = [image.flatten() for image in x_test]\n",
    "\n",
    "# 2. Data Preparation\n",
    "x_train_flat = np.array(x_train_flat)\n",
    "x_test_flat = np.array(x_test_flat)\n",
    "\n",
    "lb = LabelBinarizer()\n",
    "y_train = lb.fit_transform(y_train)\n",
    "y_train = to_categorical(y_train,num_classes=2)\n",
    "y_test = lb.fit_transform(y_test)\n",
    "y_test = to_categorical(y_test,num_classes=2)\n",
    "\n",
    "# Optional: Scale the features\n",
    "scaler = StandardScaler()\n",
    "x_train_flat = scaler.fit_transform(x_train_flat)\n",
    "x_test_flat = scaler.transform(x_test_flat)\n",
    "\n",
    "model = DecisionTreeClassifier()\n",
    "History=model.fit(x_train_flat, y_train)\n",
    "\n",
    "cross_val_score(model, x_train_flat, y_train, cv=5)\n",
    "y_pred = model.predict(x_test_flat)\n",
    "print(\"Accuracy: \", accuracy_score(y_test, y_pred))\n",
    "print(\"\\nClassification Report:\\n\", classification_report(y_test, y_pred))"
   ]
  }
 ],
 "metadata": {
  "kernelspec": {
   "display_name": "DL",
   "language": "python",
   "name": "python3"
  },
  "language_info": {
   "codemirror_mode": {
    "name": "ipython",
    "version": 3
   },
   "file_extension": ".py",
   "mimetype": "text/x-python",
   "name": "python",
   "nbconvert_exporter": "python",
   "pygments_lexer": "ipython3",
   "version": "3.10.12"
  }
 },
 "nbformat": 4,
 "nbformat_minor": 2
}

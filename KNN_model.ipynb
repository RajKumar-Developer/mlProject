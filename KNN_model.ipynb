{
 "cells": [
  {
   "cell_type": "markdown",
   "metadata": {},
   "source": [
    "# KNN MODEL"
   ]
  },
  {
   "cell_type": "markdown",
   "metadata": {},
   "source": [
    "#### LIBRARY IMPORT"
   ]
  },
  {
   "cell_type": "code",
   "execution_count": 1,
   "metadata": {},
   "outputs": [],
   "source": [
    "import os\n",
    "import cv2\n",
    "import numpy as np\n",
    "import random"
   ]
  },
  {
   "cell_type": "markdown",
   "metadata": {},
   "source": [
    "#### DIRECTORY IMPORT"
   ]
  },
  {
   "cell_type": "code",
   "execution_count": 2,
   "metadata": {},
   "outputs": [],
   "source": [
    "\n",
    "train_dir = 'C:\\\\Users\\\\DELL\\\\Documents\\\\Amrita\\\\Codes\\\\Sem_5_Codes\\\\Covid19-dataset\\\\train\\\\'\n",
    "test_dir= 'C:\\\\Users\\\\DELL\\\\Documents\\\\Amrita\\\\Codes\\\\Sem_5_Codes\\\\Covid19-dataset\\\\test\\\\'\n",
    "\n",
    "augmented_train_dir_one_in_one = 'C:\\\\Users\\\\DELL\\\\Documents\\\\Amrita\\\\Codes\\\\Sem_5_Codes\\\\Covid19-dataset\\\\augmented_train_one_in_one'\n",
    "augmented_train_dir_all_in_one='C:\\\\Users\\\\DELL\\\\Documents\\\\Amrita\\\\Codes\\\\Sem_5_Codes\\\\Covid19-dataset\\\\augmented_train_all_in_one'\n",
    "\n",
    "if not os.path.exists(augmented_train_dir_one_in_one):\n",
    "    os.makedirs(augmented_train_dir_one_in_one)\n",
    "    \n",
    "if not os.path.exists(augmented_train_dir_all_in_one):\n",
    "    os.makedirs(augmented_train_dir_all_in_one)"
   ]
  },
  {
   "cell_type": "code",
   "execution_count": 3,
   "metadata": {},
   "outputs": [],
   "source": [
    "target_size=(500,500)"
   ]
  },
  {
   "cell_type": "code",
   "execution_count": 4,
   "metadata": {},
   "outputs": [],
   "source": [
    "# Define a function to apply augmentations and save separate images\n",
    "def augmenter1(input_path, output_dir):  #augmenter1= onepic will have three diff alter-egos \n",
    "    unresized_image = cv2.imread(input_path)\n",
    "    image = cv2.resize(unresized_image, target_size)\n",
    "\n",
    "    noisy_image = image.copy()\n",
    "    rotated_image = image.copy()\n",
    "    flipped_image = image.copy()\n",
    "\n",
    "    noise = np.random.normal(0, 25, noisy_image.shape).astype(np.uint8)\n",
    "    noisy_image = cv2.add(noisy_image, noise)\n",
    "\n",
    "    angle = 15\n",
    "    height, width = rotated_image.shape[:2]\n",
    "    rotation_matrix = cv2.getRotationMatrix2D((width / 2, height / 2), angle, 1)\n",
    "    rotated_image = cv2.warpAffine(rotated_image, rotation_matrix, (width, height))\n",
    "\n",
    "    flipped_image = cv2.flip(flipped_image, 1)\n",
    "\n",
    "    base_filename = os.path.splitext(os.path.basename(input_path))[0]\n",
    "    cv2.imwrite(os.path.join(output_dir, f'{base_filename}_noise.jpg'), noisy_image)\n",
    "    cv2.imwrite(os.path.join(output_dir, f'{base_filename}_rotate.jpg'), rotated_image)\n",
    "    cv2.imwrite(os.path.join(output_dir, f'{base_filename}_flip.jpg'), flipped_image)\n",
    "\n",
    "types = ['Covid', 'Normal']\n",
    "\n",
    "for i in types:\n",
    "    train_dir_path = os.path.join(train_dir, i)\n",
    "    aug_path = os.path.join(augmented_train_dir_one_in_one, i)  \n",
    "    if not os.path.exists(aug_path):\n",
    "        os.makedirs(aug_path)\n",
    "    for root, dirs, files in os.walk(train_dir_path):\n",
    "        for file in files:\n",
    "            if file.lower().endswith(('.jpg', '.jpeg', '.png')): \n",
    "                image_path = os.path.join(root, file)\n",
    "                augmenter1(image_path, aug_path)\n"
   ]
  },
  {
   "cell_type": "markdown",
   "metadata": {},
   "source": [
    "REMINDER; EDIT DO ALL IN ONE"
   ]
  },
  {
   "cell_type": "code",
   "execution_count": 5,
   "metadata": {},
   "outputs": [],
   "source": [
    "# Define a function to apply augmentations and save separate images\n",
    "def augmenter1(input_path, output_dir):  #augmenter1= onepic will have three diff alter-egos \n",
    "    image = cv2.imread(input_path)\n",
    "\n",
    "    noisy_image = image.copy()\n",
    "    rotated_image = image.copy()\n",
    "    flipped_image = image.copy()\n",
    "\n",
    "    noise = np.random.normal(0, 25, noisy_image.shape).astype(np.uint8)\n",
    "    noisy_image = cv2.add(noisy_image, noise)\n",
    "\n",
    "    angle = 15\n",
    "    height, width = rotated_image.shape[:2]\n",
    "    rotation_matrix = cv2.getRotationMatrix2D((width / 2, height / 2), angle, 1)\n",
    "    rotated_image = cv2.warpAffine(rotated_image, rotation_matrix, (width, height))\n",
    "\n",
    "    flipped_image = cv2.flip(flipped_image, 1)\n",
    "\n",
    "    base_filename = os.path.splitext(os.path.basename(input_path))[0]\n",
    "    cv2.imwrite(os.path.join(output_dir, f'{base_filename}_noise.jpg'), noisy_image)\n",
    "    cv2.imwrite(os.path.join(output_dir, f'{base_filename}_rotate.jpg'), rotated_image)\n",
    "    cv2.imwrite(os.path.join(output_dir, f'{base_filename}_flip.jpg'), flipped_image)\n",
    "\n",
    "types = ['Covid', 'Normal']\n",
    "\n",
    "for i in types:\n",
    "    train_dir_path = os.path.join(train_dir, i)\n",
    "    aug_path = os.path.join(augmented_train_dir_one_in_one, i)  \n",
    "    if not os.path.exists(aug_path):\n",
    "        os.makedirs(aug_path)\n",
    "    for root, dirs, files in os.walk(train_dir_path):\n",
    "        for file in files:\n",
    "            if file.lower().endswith(('.jpg', '.jpeg', '.png')): \n",
    "                image_path = os.path.join(root, file)\n",
    "                augmenter1(image_path, aug_path)\n"
   ]
  },
  {
   "cell_type": "markdown",
   "metadata": {},
   "source": [
    "### image to vector form conversion function"
   ]
  },
  {
   "cell_type": "markdown",
   "metadata": {},
   "source": [
    "##### ONE IN ONE"
   ]
  },
  {
   "cell_type": "code",
   "execution_count": null,
   "metadata": {},
   "outputs": [],
   "source": [
    "from sklearn.model_selection import train_test_split\n",
    "from sklearn.neighbors import KNeighborsClassifier\n",
    "from sklearn.metrics import accuracy_score, precision_score, recall_score, f1_score"
   ]
  },
  {
   "cell_type": "code",
   "execution_count": 12,
   "metadata": {},
   "outputs": [
    {
     "ename": "ValueError",
     "evalue": "setting an array element with a sequence. The requested array has an inhomogeneous shape after 1 dimensions. The detected shape was (543,) + inhomogeneous part.",
     "output_type": "error",
     "traceback": [
      "\u001b[1;31m---------------------------------------------------------------------------\u001b[0m",
      "\u001b[1;31mValueError\u001b[0m                                Traceback (most recent call last)",
      "\u001b[1;32mc:\\Users\\DELL\\Documents\\Amrita\\Codes\\Sem_5_Codes\\mlProjectUI\\KNN_model.ipynb Cell 13\u001b[0m line \u001b[0;36m1\n\u001b[0;32m     <a href='vscode-notebook-cell:/c%3A/Users/DELL/Documents/Amrita/Codes/Sem_5_Codes/mlProjectUI/KNN_model.ipynb#W5sZmlsZQ%3D%3D?line=13'>14</a>\u001b[0m         feature_vectors\u001b[39m.\u001b[39mappend(feature_vector)\n\u001b[0;32m     <a href='vscode-notebook-cell:/c%3A/Users/DELL/Documents/Amrita/Codes/Sem_5_Codes/mlProjectUI/KNN_model.ipynb#W5sZmlsZQ%3D%3D?line=14'>15</a>\u001b[0m         labels\u001b[39m.\u001b[39mappend(\u001b[39m0\u001b[39m \u001b[39mif\u001b[39;00m label \u001b[39m==\u001b[39m \u001b[39m'\u001b[39m\u001b[39mCovid\u001b[39m\u001b[39m'\u001b[39m \u001b[39melse\u001b[39;00m \u001b[39m1\u001b[39m)\n\u001b[1;32m---> <a href='vscode-notebook-cell:/c%3A/Users/DELL/Documents/Amrita/Codes/Sem_5_Codes/mlProjectUI/KNN_model.ipynb#W5sZmlsZQ%3D%3D?line=16'>17</a>\u001b[0m X \u001b[39m=\u001b[39m np\u001b[39m.\u001b[39;49marray(feature_vectors)\n\u001b[0;32m     <a href='vscode-notebook-cell:/c%3A/Users/DELL/Documents/Amrita/Codes/Sem_5_Codes/mlProjectUI/KNN_model.ipynb#W5sZmlsZQ%3D%3D?line=17'>18</a>\u001b[0m y \u001b[39m=\u001b[39m np\u001b[39m.\u001b[39marray(labels)\n\u001b[0;32m     <a href='vscode-notebook-cell:/c%3A/Users/DELL/Documents/Amrita/Codes/Sem_5_Codes/mlProjectUI/KNN_model.ipynb#W5sZmlsZQ%3D%3D?line=19'>20</a>\u001b[0m X_train, X_test, y_train, y_test \u001b[39m=\u001b[39m train_test_split(X, y, test_size\u001b[39m=\u001b[39m\u001b[39m0.3\u001b[39m, random_state\u001b[39m=\u001b[39m\u001b[39m42\u001b[39m)\n",
      "\u001b[1;31mValueError\u001b[0m: setting an array element with a sequence. The requested array has an inhomogeneous shape after 1 dimensions. The detected shape was (543,) + inhomogeneous part."
     ]
    }
   ],
   "source": [
    "augmented_data_dir = augmented_train_dir_one_in_one\n",
    "\n",
    "feature_vectors = []\n",
    "labels = []\n",
    "\n",
    "for label in os.listdir(augmented_data_dir):\n",
    "    label_dir = os.path.join(augmented_data_dir, label)\n",
    "    for image_name in os.listdir(label_dir):\n",
    "        image_path = os.path.join(label_dir, image_name)\n",
    "        image = cv2.imread(image_path)\n",
    "\n",
    "\n",
    "        feature_vector = image.flatten()\n",
    "        feature_vectors.append(feature_vector)\n",
    "        labels.append(0 if label == 'Covid' else 1)\n",
    "\n",
    "X = np.array(feature_vectors)\n",
    "y = np.array(labels)\n",
    "\n",
    "X_train, X_test, y_train, y_test = train_test_split(X, y, test_size=0.3, random_state=42)\n"
   ]
  },
  {
   "cell_type": "markdown",
   "metadata": {},
   "source": [
    "### KNN MODEL TRANING\n"
   ]
  },
  {
   "cell_type": "code",
   "execution_count": null,
   "metadata": {},
   "outputs": [],
   "source": [
    "\n",
    "knn_classifier = KNeighborsClassifier(n_neighbors=3)\n",
    "\n",
    "knn_classifier.fit(X_train, y_train)\n",
    "\n",
    "y_pred = knn_classifier.predict(X_test)\n"
   ]
  },
  {
   "cell_type": "code",
   "execution_count": null,
   "metadata": {},
   "outputs": [],
   "source": [
    "\n",
    "accuracy = accuracy_score(y_test, y_pred)\n",
    "precision = precision_score(y_test, y_pred)\n",
    "recall = recall_score(y_test, y_pred)\n",
    "f1 = f1_score(y_test, y_pred)\n",
    "\n",
    "\n",
    "print(f'Accuracy: {accuracy:.2f}')\n",
    "print(f'Precision: {precision:.2f}')\n",
    "print(f'Recall: {recall:.2f}')\n",
    "print(f'F1 Score: {f1:.2f}')\n"
   ]
  }
 ],
 "metadata": {
  "kernelspec": {
   "display_name": "Python 3",
   "language": "python",
   "name": "python3"
  },
  "language_info": {
   "codemirror_mode": {
    "name": "ipython",
    "version": 3
   },
   "file_extension": ".py",
   "mimetype": "text/x-python",
   "name": "python",
   "nbconvert_exporter": "python",
   "pygments_lexer": "ipython3",
   "version": "3.11.6"
  }
 },
 "nbformat": 4,
 "nbformat_minor": 2
}

{
 "cells": [
  {
   "cell_type": "code",
   "execution_count": 2,
   "metadata": {},
   "outputs": [],
   "source": [
    "import numpy as np\n",
    "import pandas as pd\n",
    "import os"
   ]
  },
  {
   "cell_type": "code",
   "execution_count": 3,
   "metadata": {},
   "outputs": [
    {
     "name": "stdout",
     "output_type": "stream",
     "text": [
      "c:\\Users\\shrey\\Desktop\\Amrita Vishwa Vidyapeetham\\Semester 5\\19CSE305\\ml mini project\n"
     ]
    }
   ],
   "source": [
    "print(os.getcwd())"
   ]
  },
  {
   "cell_type": "code",
   "execution_count": 4,
   "metadata": {},
   "outputs": [],
   "source": [
    "Covid = os.listdir(\"C:\\\\Users\\\\shrey\\\\Desktop\\\\Amrita Vishwa Vidyapeetham\\\\Semester 5\\\\19CSE305\\\\ml mini project\\\\Covid19-dataset\\\\test\\\\Covid\")\n",
    "Normal=os.listdir(\"C:\\\\Users\\\\shrey\\\\Desktop\\\\Amrita Vishwa Vidyapeetham\\\\Semester 5\\\\19CSE305\\\\ml mini project\\\\Covid19-dataset\\\\test\\\\Normal\")\n",
    "Viral_Pneumonia=os.listdir(\"C:\\\\Users\\\\shrey\\\\Desktop\\\\Amrita Vishwa Vidyapeetham\\\\Semester 5\\\\19CSE305\\\\ml mini project\\\\Covid19-dataset\\\\test\\\\Viral Pneumonia\")"
   ]
  },
  {
   "cell_type": "code",
   "execution_count": 5,
   "metadata": {},
   "outputs": [
    {
     "name": "stdout",
     "output_type": "stream",
     "text": [
      "C:\\Users\\shrey\\Desktop\\Amrita Vishwa Vidyapeetham\\Semester 5\\19CSE305\\ml mini project\\CNN_model.ipynb\n",
      "C:\\Users\\shrey\\Desktop\\Amrita Vishwa Vidyapeetham\\Semester 5\\19CSE305\\ml mini project\\X_ray_(Covid_19_Pneumonia)_Heat_map.ipynb\n",
      "C:\\Users\\shrey\\Desktop\\Amrita Vishwa Vidyapeetham\\Semester 5\\19CSE305\\ml mini project\\Covid19-dataset\\test\\Covid\\0100.jpeg\n",
      "C:\\Users\\shrey\\Desktop\\Amrita Vishwa Vidyapeetham\\Semester 5\\19CSE305\\ml mini project\\Covid19-dataset\\test\\Covid\\0102.jpeg\n",
      "C:\\Users\\shrey\\Desktop\\Amrita Vishwa Vidyapeetham\\Semester 5\\19CSE305\\ml mini project\\Covid19-dataset\\test\\Covid\\0105.png\n",
      "C:\\Users\\shrey\\Desktop\\Amrita Vishwa Vidyapeetham\\Semester 5\\19CSE305\\ml mini project\\Covid19-dataset\\test\\Covid\\0106.jpeg\n",
      "C:\\Users\\shrey\\Desktop\\Amrita Vishwa Vidyapeetham\\Semester 5\\19CSE305\\ml mini project\\Covid19-dataset\\test\\Covid\\0108.jpeg\n",
      "C:\\Users\\shrey\\Desktop\\Amrita Vishwa Vidyapeetham\\Semester 5\\19CSE305\\ml mini project\\Covid19-dataset\\test\\Covid\\0111.jpg\n",
      "C:\\Users\\shrey\\Desktop\\Amrita Vishwa Vidyapeetham\\Semester 5\\19CSE305\\ml mini project\\Covid19-dataset\\test\\Covid\\0112.jpg\n",
      "C:\\Users\\shrey\\Desktop\\Amrita Vishwa Vidyapeetham\\Semester 5\\19CSE305\\ml mini project\\Covid19-dataset\\test\\Covid\\0113.jpg\n",
      "C:\\Users\\shrey\\Desktop\\Amrita Vishwa Vidyapeetham\\Semester 5\\19CSE305\\ml mini project\\Covid19-dataset\\test\\Covid\\0115.jpeg\n",
      "C:\\Users\\shrey\\Desktop\\Amrita Vishwa Vidyapeetham\\Semester 5\\19CSE305\\ml mini project\\Covid19-dataset\\test\\Covid\\0118.jpeg\n",
      "C:\\Users\\shrey\\Desktop\\Amrita Vishwa Vidyapeetham\\Semester 5\\19CSE305\\ml mini project\\Covid19-dataset\\test\\Covid\\0119.jpeg\n",
      "C:\\Users\\shrey\\Desktop\\Amrita Vishwa Vidyapeetham\\Semester 5\\19CSE305\\ml mini project\\Covid19-dataset\\test\\Covid\\0120.jpg\n",
      "C:\\Users\\shrey\\Desktop\\Amrita Vishwa Vidyapeetham\\Semester 5\\19CSE305\\ml mini project\\Covid19-dataset\\test\\Covid\\094.png\n",
      "C:\\Users\\shrey\\Desktop\\Amrita Vishwa Vidyapeetham\\Semester 5\\19CSE305\\ml mini project\\Covid19-dataset\\test\\Covid\\096.png\n",
      "C:\\Users\\shrey\\Desktop\\Amrita Vishwa Vidyapeetham\\Semester 5\\19CSE305\\ml mini project\\Covid19-dataset\\test\\Covid\\098.jpeg\n",
      "C:\\Users\\shrey\\Desktop\\Amrita Vishwa Vidyapeetham\\Semester 5\\19CSE305\\ml mini project\\Covid19-dataset\\test\\Covid\\auntminnie-2020_01_31_20_24_2322_2020_01_31_x-ray_coronavirus_US.jpg\n",
      "C:\\Users\\shrey\\Desktop\\Amrita Vishwa Vidyapeetham\\Semester 5\\19CSE305\\ml mini project\\Covid19-dataset\\test\\Covid\\auntminnie-a-2020_01_28_23_51_6665_2020_01_28_Vietnam_coronavirus.jpeg\n",
      "C:\\Users\\shrey\\Desktop\\Amrita Vishwa Vidyapeetham\\Semester 5\\19CSE305\\ml mini project\\Covid19-dataset\\test\\Covid\\auntminnie-b-2020_01_28_23_51_6665_2020_01_28_Vietnam_coronavirus.jpeg\n",
      "C:\\Users\\shrey\\Desktop\\Amrita Vishwa Vidyapeetham\\Semester 5\\19CSE305\\ml mini project\\Covid19-dataset\\test\\Covid\\auntminnie-c-2020_01_28_23_51_6665_2020_01_28_Vietnam_coronavirus.jpeg\n",
      "C:\\Users\\shrey\\Desktop\\Amrita Vishwa Vidyapeetham\\Semester 5\\19CSE305\\ml mini project\\Covid19-dataset\\test\\Covid\\auntminnie-d-2020_01_28_23_51_6665_2020_01_28_Vietnam_coronavirus.jpeg\n",
      "C:\\Users\\shrey\\Desktop\\Amrita Vishwa Vidyapeetham\\Semester 5\\19CSE305\\ml mini project\\Covid19-dataset\\test\\Covid\\COVID-00003b.jpg\n",
      "C:\\Users\\shrey\\Desktop\\Amrita Vishwa Vidyapeetham\\Semester 5\\19CSE305\\ml mini project\\Covid19-dataset\\test\\Covid\\COVID-00012.jpg\n",
      "C:\\Users\\shrey\\Desktop\\Amrita Vishwa Vidyapeetham\\Semester 5\\19CSE305\\ml mini project\\Covid19-dataset\\test\\Covid\\COVID-00022.jpg\n",
      "C:\\Users\\shrey\\Desktop\\Amrita Vishwa Vidyapeetham\\Semester 5\\19CSE305\\ml mini project\\Covid19-dataset\\test\\Covid\\COVID-00033.jpg\n",
      "C:\\Users\\shrey\\Desktop\\Amrita Vishwa Vidyapeetham\\Semester 5\\19CSE305\\ml mini project\\Covid19-dataset\\test\\Covid\\COVID-00037.jpg\n",
      "C:\\Users\\shrey\\Desktop\\Amrita Vishwa Vidyapeetham\\Semester 5\\19CSE305\\ml mini project\\Covid19-dataset\\test\\Covid\\radiopaedia-2019-novel-coronavirus-infected-pneumonia.jpg\n",
      "C:\\Users\\shrey\\Desktop\\Amrita Vishwa Vidyapeetham\\Semester 5\\19CSE305\\ml mini project\\Covid19-dataset\\test\\Normal\\0101.jpeg\n",
      "C:\\Users\\shrey\\Desktop\\Amrita Vishwa Vidyapeetham\\Semester 5\\19CSE305\\ml mini project\\Covid19-dataset\\test\\Normal\\0102.jpeg\n",
      "C:\\Users\\shrey\\Desktop\\Amrita Vishwa Vidyapeetham\\Semester 5\\19CSE305\\ml mini project\\Covid19-dataset\\test\\Normal\\0103.jpeg\n",
      "C:\\Users\\shrey\\Desktop\\Amrita Vishwa Vidyapeetham\\Semester 5\\19CSE305\\ml mini project\\Covid19-dataset\\test\\Normal\\0105.jpeg\n",
      "C:\\Users\\shrey\\Desktop\\Amrita Vishwa Vidyapeetham\\Semester 5\\19CSE305\\ml mini project\\Covid19-dataset\\test\\Normal\\0106.jpeg\n",
      "C:\\Users\\shrey\\Desktop\\Amrita Vishwa Vidyapeetham\\Semester 5\\19CSE305\\ml mini project\\Covid19-dataset\\test\\Normal\\0107.jpeg\n",
      "C:\\Users\\shrey\\Desktop\\Amrita Vishwa Vidyapeetham\\Semester 5\\19CSE305\\ml mini project\\Covid19-dataset\\test\\Normal\\0108.jpeg\n",
      "C:\\Users\\shrey\\Desktop\\Amrita Vishwa Vidyapeetham\\Semester 5\\19CSE305\\ml mini project\\Covid19-dataset\\test\\Normal\\0109.jpeg\n",
      "C:\\Users\\shrey\\Desktop\\Amrita Vishwa Vidyapeetham\\Semester 5\\19CSE305\\ml mini project\\Covid19-dataset\\test\\Normal\\0110.jpeg\n",
      "C:\\Users\\shrey\\Desktop\\Amrita Vishwa Vidyapeetham\\Semester 5\\19CSE305\\ml mini project\\Covid19-dataset\\test\\Normal\\0111.jpeg\n",
      "C:\\Users\\shrey\\Desktop\\Amrita Vishwa Vidyapeetham\\Semester 5\\19CSE305\\ml mini project\\Covid19-dataset\\test\\Normal\\0112.jpeg\n",
      "C:\\Users\\shrey\\Desktop\\Amrita Vishwa Vidyapeetham\\Semester 5\\19CSE305\\ml mini project\\Covid19-dataset\\test\\Normal\\0114.jpeg\n",
      "C:\\Users\\shrey\\Desktop\\Amrita Vishwa Vidyapeetham\\Semester 5\\19CSE305\\ml mini project\\Covid19-dataset\\test\\Normal\\0115.jpeg\n",
      "C:\\Users\\shrey\\Desktop\\Amrita Vishwa Vidyapeetham\\Semester 5\\19CSE305\\ml mini project\\Covid19-dataset\\test\\Normal\\0116.jpeg\n",
      "C:\\Users\\shrey\\Desktop\\Amrita Vishwa Vidyapeetham\\Semester 5\\19CSE305\\ml mini project\\Covid19-dataset\\test\\Normal\\0117.jpeg\n",
      "C:\\Users\\shrey\\Desktop\\Amrita Vishwa Vidyapeetham\\Semester 5\\19CSE305\\ml mini project\\Covid19-dataset\\test\\Normal\\0118.jpeg\n",
      "C:\\Users\\shrey\\Desktop\\Amrita Vishwa Vidyapeetham\\Semester 5\\19CSE305\\ml mini project\\Covid19-dataset\\test\\Normal\\0119.jpeg\n",
      "C:\\Users\\shrey\\Desktop\\Amrita Vishwa Vidyapeetham\\Semester 5\\19CSE305\\ml mini project\\Covid19-dataset\\test\\Normal\\0120.jpeg\n",
      "C:\\Users\\shrey\\Desktop\\Amrita Vishwa Vidyapeetham\\Semester 5\\19CSE305\\ml mini project\\Covid19-dataset\\test\\Normal\\0121.jpeg\n",
      "C:\\Users\\shrey\\Desktop\\Amrita Vishwa Vidyapeetham\\Semester 5\\19CSE305\\ml mini project\\Covid19-dataset\\test\\Normal\\0122.jpeg\n",
      "C:\\Users\\shrey\\Desktop\\Amrita Vishwa Vidyapeetham\\Semester 5\\19CSE305\\ml mini project\\Covid19-dataset\\test\\Viral Pneumonia\\0101.jpeg\n",
      "C:\\Users\\shrey\\Desktop\\Amrita Vishwa Vidyapeetham\\Semester 5\\19CSE305\\ml mini project\\Covid19-dataset\\test\\Viral Pneumonia\\0102.jpeg\n",
      "C:\\Users\\shrey\\Desktop\\Amrita Vishwa Vidyapeetham\\Semester 5\\19CSE305\\ml mini project\\Covid19-dataset\\test\\Viral Pneumonia\\0103.jpeg\n",
      "C:\\Users\\shrey\\Desktop\\Amrita Vishwa Vidyapeetham\\Semester 5\\19CSE305\\ml mini project\\Covid19-dataset\\test\\Viral Pneumonia\\0104.jpeg\n",
      "C:\\Users\\shrey\\Desktop\\Amrita Vishwa Vidyapeetham\\Semester 5\\19CSE305\\ml mini project\\Covid19-dataset\\test\\Viral Pneumonia\\0105.jpeg\n",
      "C:\\Users\\shrey\\Desktop\\Amrita Vishwa Vidyapeetham\\Semester 5\\19CSE305\\ml mini project\\Covid19-dataset\\test\\Viral Pneumonia\\0106.jpeg\n",
      "C:\\Users\\shrey\\Desktop\\Amrita Vishwa Vidyapeetham\\Semester 5\\19CSE305\\ml mini project\\Covid19-dataset\\test\\Viral Pneumonia\\0107.jpeg\n",
      "C:\\Users\\shrey\\Desktop\\Amrita Vishwa Vidyapeetham\\Semester 5\\19CSE305\\ml mini project\\Covid19-dataset\\test\\Viral Pneumonia\\0108.jpeg\n",
      "C:\\Users\\shrey\\Desktop\\Amrita Vishwa Vidyapeetham\\Semester 5\\19CSE305\\ml mini project\\Covid19-dataset\\test\\Viral Pneumonia\\0109.jpeg\n",
      "C:\\Users\\shrey\\Desktop\\Amrita Vishwa Vidyapeetham\\Semester 5\\19CSE305\\ml mini project\\Covid19-dataset\\test\\Viral Pneumonia\\0110.jpeg\n",
      "C:\\Users\\shrey\\Desktop\\Amrita Vishwa Vidyapeetham\\Semester 5\\19CSE305\\ml mini project\\Covid19-dataset\\test\\Viral Pneumonia\\0111.jpeg\n",
      "C:\\Users\\shrey\\Desktop\\Amrita Vishwa Vidyapeetham\\Semester 5\\19CSE305\\ml mini project\\Covid19-dataset\\test\\Viral Pneumonia\\0112.jpeg\n",
      "C:\\Users\\shrey\\Desktop\\Amrita Vishwa Vidyapeetham\\Semester 5\\19CSE305\\ml mini project\\Covid19-dataset\\test\\Viral Pneumonia\\0113.jpeg\n",
      "C:\\Users\\shrey\\Desktop\\Amrita Vishwa Vidyapeetham\\Semester 5\\19CSE305\\ml mini project\\Covid19-dataset\\test\\Viral Pneumonia\\0114.jpeg\n",
      "C:\\Users\\shrey\\Desktop\\Amrita Vishwa Vidyapeetham\\Semester 5\\19CSE305\\ml mini project\\Covid19-dataset\\test\\Viral Pneumonia\\0115.jpeg\n",
      "C:\\Users\\shrey\\Desktop\\Amrita Vishwa Vidyapeetham\\Semester 5\\19CSE305\\ml mini project\\Covid19-dataset\\test\\Viral Pneumonia\\0116.jpeg\n",
      "C:\\Users\\shrey\\Desktop\\Amrita Vishwa Vidyapeetham\\Semester 5\\19CSE305\\ml mini project\\Covid19-dataset\\test\\Viral Pneumonia\\0117.jpeg\n",
      "C:\\Users\\shrey\\Desktop\\Amrita Vishwa Vidyapeetham\\Semester 5\\19CSE305\\ml mini project\\Covid19-dataset\\test\\Viral Pneumonia\\0118.jpeg\n",
      "C:\\Users\\shrey\\Desktop\\Amrita Vishwa Vidyapeetham\\Semester 5\\19CSE305\\ml mini project\\Covid19-dataset\\test\\Viral Pneumonia\\0119.jpeg\n",
      "C:\\Users\\shrey\\Desktop\\Amrita Vishwa Vidyapeetham\\Semester 5\\19CSE305\\ml mini project\\Covid19-dataset\\test\\Viral Pneumonia\\0120.jpeg\n",
      "C:\\Users\\shrey\\Desktop\\Amrita Vishwa Vidyapeetham\\Semester 5\\19CSE305\\ml mini project\\Covid19-dataset\\train\\Covid\\01.jpeg\n",
      "C:\\Users\\shrey\\Desktop\\Amrita Vishwa Vidyapeetham\\Semester 5\\19CSE305\\ml mini project\\Covid19-dataset\\train\\Covid\\010.png\n",
      "C:\\Users\\shrey\\Desktop\\Amrita Vishwa Vidyapeetham\\Semester 5\\19CSE305\\ml mini project\\Covid19-dataset\\train\\Covid\\012.jpeg\n",
      "C:\\Users\\shrey\\Desktop\\Amrita Vishwa Vidyapeetham\\Semester 5\\19CSE305\\ml mini project\\Covid19-dataset\\train\\Covid\\015.jpg\n",
      "C:\\Users\\shrey\\Desktop\\Amrita Vishwa Vidyapeetham\\Semester 5\\19CSE305\\ml mini project\\Covid19-dataset\\train\\Covid\\019.png\n",
      "C:\\Users\\shrey\\Desktop\\Amrita Vishwa Vidyapeetham\\Semester 5\\19CSE305\\ml mini project\\Covid19-dataset\\train\\Covid\\02.jpeg\n",
      "C:\\Users\\shrey\\Desktop\\Amrita Vishwa Vidyapeetham\\Semester 5\\19CSE305\\ml mini project\\Covid19-dataset\\train\\Covid\\020.jpg\n",
      "C:\\Users\\shrey\\Desktop\\Amrita Vishwa Vidyapeetham\\Semester 5\\19CSE305\\ml mini project\\Covid19-dataset\\train\\Covid\\021.jpeg\n",
      "C:\\Users\\shrey\\Desktop\\Amrita Vishwa Vidyapeetham\\Semester 5\\19CSE305\\ml mini project\\Covid19-dataset\\train\\Covid\\022.jpeg\n",
      "C:\\Users\\shrey\\Desktop\\Amrita Vishwa Vidyapeetham\\Semester 5\\19CSE305\\ml mini project\\Covid19-dataset\\train\\Covid\\024.jpeg\n",
      "C:\\Users\\shrey\\Desktop\\Amrita Vishwa Vidyapeetham\\Semester 5\\19CSE305\\ml mini project\\Covid19-dataset\\train\\Covid\\025.jpeg\n",
      "C:\\Users\\shrey\\Desktop\\Amrita Vishwa Vidyapeetham\\Semester 5\\19CSE305\\ml mini project\\Covid19-dataset\\train\\Covid\\026.jpeg\n",
      "C:\\Users\\shrey\\Desktop\\Amrita Vishwa Vidyapeetham\\Semester 5\\19CSE305\\ml mini project\\Covid19-dataset\\train\\Covid\\027.jpeg\n",
      "C:\\Users\\shrey\\Desktop\\Amrita Vishwa Vidyapeetham\\Semester 5\\19CSE305\\ml mini project\\Covid19-dataset\\train\\Covid\\03.jpeg\n",
      "C:\\Users\\shrey\\Desktop\\Amrita Vishwa Vidyapeetham\\Semester 5\\19CSE305\\ml mini project\\Covid19-dataset\\train\\Covid\\031.jpeg\n",
      "C:\\Users\\shrey\\Desktop\\Amrita Vishwa Vidyapeetham\\Semester 5\\19CSE305\\ml mini project\\Covid19-dataset\\train\\Covid\\032.jpeg\n",
      "C:\\Users\\shrey\\Desktop\\Amrita Vishwa Vidyapeetham\\Semester 5\\19CSE305\\ml mini project\\Covid19-dataset\\train\\Covid\\033.png\n",
      "C:\\Users\\shrey\\Desktop\\Amrita Vishwa Vidyapeetham\\Semester 5\\19CSE305\\ml mini project\\Covid19-dataset\\train\\Covid\\039.jpeg\n",
      "C:\\Users\\shrey\\Desktop\\Amrita Vishwa Vidyapeetham\\Semester 5\\19CSE305\\ml mini project\\Covid19-dataset\\train\\Covid\\04.png\n",
      "C:\\Users\\shrey\\Desktop\\Amrita Vishwa Vidyapeetham\\Semester 5\\19CSE305\\ml mini project\\Covid19-dataset\\train\\Covid\\040.jpeg\n",
      "C:\\Users\\shrey\\Desktop\\Amrita Vishwa Vidyapeetham\\Semester 5\\19CSE305\\ml mini project\\Covid19-dataset\\train\\Covid\\041.jpeg\n",
      "C:\\Users\\shrey\\Desktop\\Amrita Vishwa Vidyapeetham\\Semester 5\\19CSE305\\ml mini project\\Covid19-dataset\\train\\Covid\\042.jpeg\n",
      "C:\\Users\\shrey\\Desktop\\Amrita Vishwa Vidyapeetham\\Semester 5\\19CSE305\\ml mini project\\Covid19-dataset\\train\\Covid\\043.jpeg\n",
      "C:\\Users\\shrey\\Desktop\\Amrita Vishwa Vidyapeetham\\Semester 5\\19CSE305\\ml mini project\\Covid19-dataset\\train\\Covid\\044.jpeg\n",
      "C:\\Users\\shrey\\Desktop\\Amrita Vishwa Vidyapeetham\\Semester 5\\19CSE305\\ml mini project\\Covid19-dataset\\train\\Covid\\045.jpeg\n",
      "C:\\Users\\shrey\\Desktop\\Amrita Vishwa Vidyapeetham\\Semester 5\\19CSE305\\ml mini project\\Covid19-dataset\\train\\Covid\\046.jpeg\n",
      "C:\\Users\\shrey\\Desktop\\Amrita Vishwa Vidyapeetham\\Semester 5\\19CSE305\\ml mini project\\Covid19-dataset\\train\\Covid\\047.jpeg\n",
      "C:\\Users\\shrey\\Desktop\\Amrita Vishwa Vidyapeetham\\Semester 5\\19CSE305\\ml mini project\\Covid19-dataset\\train\\Covid\\048.jpeg\n",
      "C:\\Users\\shrey\\Desktop\\Amrita Vishwa Vidyapeetham\\Semester 5\\19CSE305\\ml mini project\\Covid19-dataset\\train\\Covid\\049.jpeg\n",
      "C:\\Users\\shrey\\Desktop\\Amrita Vishwa Vidyapeetham\\Semester 5\\19CSE305\\ml mini project\\Covid19-dataset\\train\\Covid\\050.jpeg\n",
      "C:\\Users\\shrey\\Desktop\\Amrita Vishwa Vidyapeetham\\Semester 5\\19CSE305\\ml mini project\\Covid19-dataset\\train\\Covid\\051.jpeg\n",
      "C:\\Users\\shrey\\Desktop\\Amrita Vishwa Vidyapeetham\\Semester 5\\19CSE305\\ml mini project\\Covid19-dataset\\train\\Covid\\052.jpeg\n",
      "C:\\Users\\shrey\\Desktop\\Amrita Vishwa Vidyapeetham\\Semester 5\\19CSE305\\ml mini project\\Covid19-dataset\\train\\Covid\\053.jpeg\n",
      "C:\\Users\\shrey\\Desktop\\Amrita Vishwa Vidyapeetham\\Semester 5\\19CSE305\\ml mini project\\Covid19-dataset\\train\\Covid\\054.jpeg\n",
      "C:\\Users\\shrey\\Desktop\\Amrita Vishwa Vidyapeetham\\Semester 5\\19CSE305\\ml mini project\\Covid19-dataset\\train\\Covid\\055.jpeg\n",
      "C:\\Users\\shrey\\Desktop\\Amrita Vishwa Vidyapeetham\\Semester 5\\19CSE305\\ml mini project\\Covid19-dataset\\train\\Covid\\056.jpg\n",
      "C:\\Users\\shrey\\Desktop\\Amrita Vishwa Vidyapeetham\\Semester 5\\19CSE305\\ml mini project\\Covid19-dataset\\train\\Covid\\057.jpeg\n",
      "C:\\Users\\shrey\\Desktop\\Amrita Vishwa Vidyapeetham\\Semester 5\\19CSE305\\ml mini project\\Covid19-dataset\\train\\Covid\\058.jpeg\n",
      "C:\\Users\\shrey\\Desktop\\Amrita Vishwa Vidyapeetham\\Semester 5\\19CSE305\\ml mini project\\Covid19-dataset\\train\\Covid\\059.jpeg\n",
      "C:\\Users\\shrey\\Desktop\\Amrita Vishwa Vidyapeetham\\Semester 5\\19CSE305\\ml mini project\\Covid19-dataset\\train\\Covid\\06.jpeg\n",
      "C:\\Users\\shrey\\Desktop\\Amrita Vishwa Vidyapeetham\\Semester 5\\19CSE305\\ml mini project\\Covid19-dataset\\train\\Covid\\060.jpeg\n",
      "C:\\Users\\shrey\\Desktop\\Amrita Vishwa Vidyapeetham\\Semester 5\\19CSE305\\ml mini project\\Covid19-dataset\\train\\Covid\\061.jpg\n",
      "C:\\Users\\shrey\\Desktop\\Amrita Vishwa Vidyapeetham\\Semester 5\\19CSE305\\ml mini project\\Covid19-dataset\\train\\Covid\\062.jpeg\n",
      "C:\\Users\\shrey\\Desktop\\Amrita Vishwa Vidyapeetham\\Semester 5\\19CSE305\\ml mini project\\Covid19-dataset\\train\\Covid\\064.jpg\n",
      "C:\\Users\\shrey\\Desktop\\Amrita Vishwa Vidyapeetham\\Semester 5\\19CSE305\\ml mini project\\Covid19-dataset\\train\\Covid\\065.jpeg\n",
      "C:\\Users\\shrey\\Desktop\\Amrita Vishwa Vidyapeetham\\Semester 5\\19CSE305\\ml mini project\\Covid19-dataset\\train\\Covid\\067.jpg\n",
      "C:\\Users\\shrey\\Desktop\\Amrita Vishwa Vidyapeetham\\Semester 5\\19CSE305\\ml mini project\\Covid19-dataset\\train\\Covid\\068.jpg\n",
      "C:\\Users\\shrey\\Desktop\\Amrita Vishwa Vidyapeetham\\Semester 5\\19CSE305\\ml mini project\\Covid19-dataset\\train\\Covid\\069.jpg\n",
      "C:\\Users\\shrey\\Desktop\\Amrita Vishwa Vidyapeetham\\Semester 5\\19CSE305\\ml mini project\\Covid19-dataset\\train\\Covid\\07.jpg\n",
      "C:\\Users\\shrey\\Desktop\\Amrita Vishwa Vidyapeetham\\Semester 5\\19CSE305\\ml mini project\\Covid19-dataset\\train\\Covid\\071.jpg\n",
      "C:\\Users\\shrey\\Desktop\\Amrita Vishwa Vidyapeetham\\Semester 5\\19CSE305\\ml mini project\\Covid19-dataset\\train\\Covid\\072.jpeg\n",
      "C:\\Users\\shrey\\Desktop\\Amrita Vishwa Vidyapeetham\\Semester 5\\19CSE305\\ml mini project\\Covid19-dataset\\train\\Covid\\073.jpg\n",
      "C:\\Users\\shrey\\Desktop\\Amrita Vishwa Vidyapeetham\\Semester 5\\19CSE305\\ml mini project\\Covid19-dataset\\train\\Covid\\074.jpg\n",
      "C:\\Users\\shrey\\Desktop\\Amrita Vishwa Vidyapeetham\\Semester 5\\19CSE305\\ml mini project\\Covid19-dataset\\train\\Covid\\076.jpg\n",
      "C:\\Users\\shrey\\Desktop\\Amrita Vishwa Vidyapeetham\\Semester 5\\19CSE305\\ml mini project\\Covid19-dataset\\train\\Covid\\078.jpeg\n",
      "C:\\Users\\shrey\\Desktop\\Amrita Vishwa Vidyapeetham\\Semester 5\\19CSE305\\ml mini project\\Covid19-dataset\\train\\Covid\\079.jpeg\n",
      "C:\\Users\\shrey\\Desktop\\Amrita Vishwa Vidyapeetham\\Semester 5\\19CSE305\\ml mini project\\Covid19-dataset\\train\\Covid\\08.jpeg\n",
      "C:\\Users\\shrey\\Desktop\\Amrita Vishwa Vidyapeetham\\Semester 5\\19CSE305\\ml mini project\\Covid19-dataset\\train\\Covid\\080.jpg\n",
      "C:\\Users\\shrey\\Desktop\\Amrita Vishwa Vidyapeetham\\Semester 5\\19CSE305\\ml mini project\\Covid19-dataset\\train\\Covid\\081.jpeg\n",
      "C:\\Users\\shrey\\Desktop\\Amrita Vishwa Vidyapeetham\\Semester 5\\19CSE305\\ml mini project\\Covid19-dataset\\train\\Covid\\082.jpg\n",
      "C:\\Users\\shrey\\Desktop\\Amrita Vishwa Vidyapeetham\\Semester 5\\19CSE305\\ml mini project\\Covid19-dataset\\train\\Covid\\083.jpeg\n",
      "C:\\Users\\shrey\\Desktop\\Amrita Vishwa Vidyapeetham\\Semester 5\\19CSE305\\ml mini project\\Covid19-dataset\\train\\Covid\\084.jpeg\n",
      "C:\\Users\\shrey\\Desktop\\Amrita Vishwa Vidyapeetham\\Semester 5\\19CSE305\\ml mini project\\Covid19-dataset\\train\\Covid\\085.jpeg\n",
      "C:\\Users\\shrey\\Desktop\\Amrita Vishwa Vidyapeetham\\Semester 5\\19CSE305\\ml mini project\\Covid19-dataset\\train\\Covid\\086.jpg\n",
      "C:\\Users\\shrey\\Desktop\\Amrita Vishwa Vidyapeetham\\Semester 5\\19CSE305\\ml mini project\\Covid19-dataset\\train\\Covid\\088.jpeg\n",
      "C:\\Users\\shrey\\Desktop\\Amrita Vishwa Vidyapeetham\\Semester 5\\19CSE305\\ml mini project\\Covid19-dataset\\train\\Covid\\089.jpg\n",
      "C:\\Users\\shrey\\Desktop\\Amrita Vishwa Vidyapeetham\\Semester 5\\19CSE305\\ml mini project\\Covid19-dataset\\train\\Covid\\09.png\n",
      "C:\\Users\\shrey\\Desktop\\Amrita Vishwa Vidyapeetham\\Semester 5\\19CSE305\\ml mini project\\Covid19-dataset\\train\\Covid\\090.jpeg\n",
      "C:\\Users\\shrey\\Desktop\\Amrita Vishwa Vidyapeetham\\Semester 5\\19CSE305\\ml mini project\\Covid19-dataset\\train\\Covid\\091.jpg\n",
      "C:\\Users\\shrey\\Desktop\\Amrita Vishwa Vidyapeetham\\Semester 5\\19CSE305\\ml mini project\\Covid19-dataset\\train\\Covid\\092.png\n",
      "C:\\Users\\shrey\\Desktop\\Amrita Vishwa Vidyapeetham\\Semester 5\\19CSE305\\ml mini project\\Covid19-dataset\\train\\Covid\\COVID-00001.jpg\n",
      "C:\\Users\\shrey\\Desktop\\Amrita Vishwa Vidyapeetham\\Semester 5\\19CSE305\\ml mini project\\Covid19-dataset\\train\\Covid\\COVID-00002.jpg\n",
      "C:\\Users\\shrey\\Desktop\\Amrita Vishwa Vidyapeetham\\Semester 5\\19CSE305\\ml mini project\\Covid19-dataset\\train\\Covid\\COVID-00003a.jpg\n",
      "C:\\Users\\shrey\\Desktop\\Amrita Vishwa Vidyapeetham\\Semester 5\\19CSE305\\ml mini project\\Covid19-dataset\\train\\Covid\\COVID-00003b.jpg\n",
      "C:\\Users\\shrey\\Desktop\\Amrita Vishwa Vidyapeetham\\Semester 5\\19CSE305\\ml mini project\\Covid19-dataset\\train\\Covid\\COVID-00004.jpg\n",
      "C:\\Users\\shrey\\Desktop\\Amrita Vishwa Vidyapeetham\\Semester 5\\19CSE305\\ml mini project\\Covid19-dataset\\train\\Covid\\COVID-00005.jpg\n",
      "C:\\Users\\shrey\\Desktop\\Amrita Vishwa Vidyapeetham\\Semester 5\\19CSE305\\ml mini project\\Covid19-dataset\\train\\Covid\\COVID-00006.jpg\n",
      "C:\\Users\\shrey\\Desktop\\Amrita Vishwa Vidyapeetham\\Semester 5\\19CSE305\\ml mini project\\Covid19-dataset\\train\\Covid\\COVID-00007.jpg\n",
      "C:\\Users\\shrey\\Desktop\\Amrita Vishwa Vidyapeetham\\Semester 5\\19CSE305\\ml mini project\\Covid19-dataset\\train\\Covid\\COVID-00008.jpg\n",
      "C:\\Users\\shrey\\Desktop\\Amrita Vishwa Vidyapeetham\\Semester 5\\19CSE305\\ml mini project\\Covid19-dataset\\train\\Covid\\COVID-00009.jpg\n",
      "C:\\Users\\shrey\\Desktop\\Amrita Vishwa Vidyapeetham\\Semester 5\\19CSE305\\ml mini project\\Covid19-dataset\\train\\Covid\\COVID-00010.jpg\n",
      "C:\\Users\\shrey\\Desktop\\Amrita Vishwa Vidyapeetham\\Semester 5\\19CSE305\\ml mini project\\Covid19-dataset\\train\\Covid\\COVID-00011.jpg\n",
      "C:\\Users\\shrey\\Desktop\\Amrita Vishwa Vidyapeetham\\Semester 5\\19CSE305\\ml mini project\\Covid19-dataset\\train\\Covid\\COVID-00012.jpg\n",
      "C:\\Users\\shrey\\Desktop\\Amrita Vishwa Vidyapeetham\\Semester 5\\19CSE305\\ml mini project\\Covid19-dataset\\train\\Covid\\COVID-00013a.jpg\n",
      "C:\\Users\\shrey\\Desktop\\Amrita Vishwa Vidyapeetham\\Semester 5\\19CSE305\\ml mini project\\Covid19-dataset\\train\\Covid\\COVID-00013b.jpg\n",
      "C:\\Users\\shrey\\Desktop\\Amrita Vishwa Vidyapeetham\\Semester 5\\19CSE305\\ml mini project\\Covid19-dataset\\train\\Covid\\COVID-00014.jpg\n",
      "C:\\Users\\shrey\\Desktop\\Amrita Vishwa Vidyapeetham\\Semester 5\\19CSE305\\ml mini project\\Covid19-dataset\\train\\Covid\\COVID-00015a.png\n",
      "C:\\Users\\shrey\\Desktop\\Amrita Vishwa Vidyapeetham\\Semester 5\\19CSE305\\ml mini project\\Covid19-dataset\\train\\Covid\\COVID-00015b.png\n",
      "C:\\Users\\shrey\\Desktop\\Amrita Vishwa Vidyapeetham\\Semester 5\\19CSE305\\ml mini project\\Covid19-dataset\\train\\Covid\\COVID-00016.jpg\n",
      "C:\\Users\\shrey\\Desktop\\Amrita Vishwa Vidyapeetham\\Semester 5\\19CSE305\\ml mini project\\Covid19-dataset\\train\\Covid\\COVID-00017.jpg\n",
      "C:\\Users\\shrey\\Desktop\\Amrita Vishwa Vidyapeetham\\Semester 5\\19CSE305\\ml mini project\\Covid19-dataset\\train\\Covid\\COVID-00018.jpg\n",
      "C:\\Users\\shrey\\Desktop\\Amrita Vishwa Vidyapeetham\\Semester 5\\19CSE305\\ml mini project\\Covid19-dataset\\train\\Covid\\COVID-00019.jpg\n",
      "C:\\Users\\shrey\\Desktop\\Amrita Vishwa Vidyapeetham\\Semester 5\\19CSE305\\ml mini project\\Covid19-dataset\\train\\Covid\\COVID-00020.jpg\n",
      "C:\\Users\\shrey\\Desktop\\Amrita Vishwa Vidyapeetham\\Semester 5\\19CSE305\\ml mini project\\Covid19-dataset\\train\\Covid\\COVID-00021.jpg\n",
      "C:\\Users\\shrey\\Desktop\\Amrita Vishwa Vidyapeetham\\Semester 5\\19CSE305\\ml mini project\\Covid19-dataset\\train\\Covid\\COVID-00022.jpg\n",
      "C:\\Users\\shrey\\Desktop\\Amrita Vishwa Vidyapeetham\\Semester 5\\19CSE305\\ml mini project\\Covid19-dataset\\train\\Covid\\COVID-00023.jpg\n",
      "C:\\Users\\shrey\\Desktop\\Amrita Vishwa Vidyapeetham\\Semester 5\\19CSE305\\ml mini project\\Covid19-dataset\\train\\Covid\\COVID-00024.jpg\n",
      "C:\\Users\\shrey\\Desktop\\Amrita Vishwa Vidyapeetham\\Semester 5\\19CSE305\\ml mini project\\Covid19-dataset\\train\\Covid\\COVID-00025.jpg\n",
      "C:\\Users\\shrey\\Desktop\\Amrita Vishwa Vidyapeetham\\Semester 5\\19CSE305\\ml mini project\\Covid19-dataset\\train\\Covid\\COVID-00026.jpg\n",
      "C:\\Users\\shrey\\Desktop\\Amrita Vishwa Vidyapeetham\\Semester 5\\19CSE305\\ml mini project\\Covid19-dataset\\train\\Covid\\COVID-00027.jpg\n",
      "C:\\Users\\shrey\\Desktop\\Amrita Vishwa Vidyapeetham\\Semester 5\\19CSE305\\ml mini project\\Covid19-dataset\\train\\Covid\\COVID-00028.jpg\n",
      "C:\\Users\\shrey\\Desktop\\Amrita Vishwa Vidyapeetham\\Semester 5\\19CSE305\\ml mini project\\Covid19-dataset\\train\\Covid\\COVID-00029.jpg\n",
      "C:\\Users\\shrey\\Desktop\\Amrita Vishwa Vidyapeetham\\Semester 5\\19CSE305\\ml mini project\\Covid19-dataset\\train\\Covid\\COVID-00030.jpg\n",
      "C:\\Users\\shrey\\Desktop\\Amrita Vishwa Vidyapeetham\\Semester 5\\19CSE305\\ml mini project\\Covid19-dataset\\train\\Covid\\COVID-00031.jpg\n",
      "C:\\Users\\shrey\\Desktop\\Amrita Vishwa Vidyapeetham\\Semester 5\\19CSE305\\ml mini project\\Covid19-dataset\\train\\Covid\\COVID-00032.jpg\n",
      "C:\\Users\\shrey\\Desktop\\Amrita Vishwa Vidyapeetham\\Semester 5\\19CSE305\\ml mini project\\Covid19-dataset\\train\\Covid\\COVID-00033.jpg\n",
      "C:\\Users\\shrey\\Desktop\\Amrita Vishwa Vidyapeetham\\Semester 5\\19CSE305\\ml mini project\\Covid19-dataset\\train\\Covid\\COVID-00034.jpg\n",
      "C:\\Users\\shrey\\Desktop\\Amrita Vishwa Vidyapeetham\\Semester 5\\19CSE305\\ml mini project\\Covid19-dataset\\train\\Covid\\COVID-00035.jpg\n",
      "C:\\Users\\shrey\\Desktop\\Amrita Vishwa Vidyapeetham\\Semester 5\\19CSE305\\ml mini project\\Covid19-dataset\\train\\Covid\\COVID-00036.jpg\n",
      "C:\\Users\\shrey\\Desktop\\Amrita Vishwa Vidyapeetham\\Semester 5\\19CSE305\\ml mini project\\Covid19-dataset\\train\\Covid\\COVID-00037.jpg\n",
      "C:\\Users\\shrey\\Desktop\\Amrita Vishwa Vidyapeetham\\Semester 5\\19CSE305\\ml mini project\\Covid19-dataset\\train\\Covid\\COVID-00038.jpg\n",
      "C:\\Users\\shrey\\Desktop\\Amrita Vishwa Vidyapeetham\\Semester 5\\19CSE305\\ml mini project\\Covid19-dataset\\train\\Normal\\01.jpeg\n",
      "C:\\Users\\shrey\\Desktop\\Amrita Vishwa Vidyapeetham\\Semester 5\\19CSE305\\ml mini project\\Covid19-dataset\\train\\Normal\\010.jpeg\n",
      "C:\\Users\\shrey\\Desktop\\Amrita Vishwa Vidyapeetham\\Semester 5\\19CSE305\\ml mini project\\Covid19-dataset\\train\\Normal\\011.jpeg\n",
      "C:\\Users\\shrey\\Desktop\\Amrita Vishwa Vidyapeetham\\Semester 5\\19CSE305\\ml mini project\\Covid19-dataset\\train\\Normal\\012.jpeg\n",
      "C:\\Users\\shrey\\Desktop\\Amrita Vishwa Vidyapeetham\\Semester 5\\19CSE305\\ml mini project\\Covid19-dataset\\train\\Normal\\013.jpeg\n",
      "C:\\Users\\shrey\\Desktop\\Amrita Vishwa Vidyapeetham\\Semester 5\\19CSE305\\ml mini project\\Covid19-dataset\\train\\Normal\\014.jpeg\n",
      "C:\\Users\\shrey\\Desktop\\Amrita Vishwa Vidyapeetham\\Semester 5\\19CSE305\\ml mini project\\Covid19-dataset\\train\\Normal\\015.jpeg\n",
      "C:\\Users\\shrey\\Desktop\\Amrita Vishwa Vidyapeetham\\Semester 5\\19CSE305\\ml mini project\\Covid19-dataset\\train\\Normal\\016.jpeg\n",
      "C:\\Users\\shrey\\Desktop\\Amrita Vishwa Vidyapeetham\\Semester 5\\19CSE305\\ml mini project\\Covid19-dataset\\train\\Normal\\017.jpeg\n",
      "C:\\Users\\shrey\\Desktop\\Amrita Vishwa Vidyapeetham\\Semester 5\\19CSE305\\ml mini project\\Covid19-dataset\\train\\Normal\\018.jpeg\n",
      "C:\\Users\\shrey\\Desktop\\Amrita Vishwa Vidyapeetham\\Semester 5\\19CSE305\\ml mini project\\Covid19-dataset\\train\\Normal\\019.jpeg\n",
      "C:\\Users\\shrey\\Desktop\\Amrita Vishwa Vidyapeetham\\Semester 5\\19CSE305\\ml mini project\\Covid19-dataset\\train\\Normal\\02.jpeg\n",
      "C:\\Users\\shrey\\Desktop\\Amrita Vishwa Vidyapeetham\\Semester 5\\19CSE305\\ml mini project\\Covid19-dataset\\train\\Normal\\020.jpeg\n",
      "C:\\Users\\shrey\\Desktop\\Amrita Vishwa Vidyapeetham\\Semester 5\\19CSE305\\ml mini project\\Covid19-dataset\\train\\Normal\\021.jpeg\n",
      "C:\\Users\\shrey\\Desktop\\Amrita Vishwa Vidyapeetham\\Semester 5\\19CSE305\\ml mini project\\Covid19-dataset\\train\\Normal\\022.jpeg\n",
      "C:\\Users\\shrey\\Desktop\\Amrita Vishwa Vidyapeetham\\Semester 5\\19CSE305\\ml mini project\\Covid19-dataset\\train\\Normal\\023.jpeg\n",
      "C:\\Users\\shrey\\Desktop\\Amrita Vishwa Vidyapeetham\\Semester 5\\19CSE305\\ml mini project\\Covid19-dataset\\train\\Normal\\024.jpeg\n",
      "C:\\Users\\shrey\\Desktop\\Amrita Vishwa Vidyapeetham\\Semester 5\\19CSE305\\ml mini project\\Covid19-dataset\\train\\Normal\\025.jpeg\n",
      "C:\\Users\\shrey\\Desktop\\Amrita Vishwa Vidyapeetham\\Semester 5\\19CSE305\\ml mini project\\Covid19-dataset\\train\\Normal\\03.jpeg\n",
      "C:\\Users\\shrey\\Desktop\\Amrita Vishwa Vidyapeetham\\Semester 5\\19CSE305\\ml mini project\\Covid19-dataset\\train\\Normal\\04.jpeg\n",
      "C:\\Users\\shrey\\Desktop\\Amrita Vishwa Vidyapeetham\\Semester 5\\19CSE305\\ml mini project\\Covid19-dataset\\train\\Normal\\05.jpeg\n",
      "C:\\Users\\shrey\\Desktop\\Amrita Vishwa Vidyapeetham\\Semester 5\\19CSE305\\ml mini project\\Covid19-dataset\\train\\Normal\\050.jpeg\n",
      "C:\\Users\\shrey\\Desktop\\Amrita Vishwa Vidyapeetham\\Semester 5\\19CSE305\\ml mini project\\Covid19-dataset\\train\\Normal\\051.jpeg\n",
      "C:\\Users\\shrey\\Desktop\\Amrita Vishwa Vidyapeetham\\Semester 5\\19CSE305\\ml mini project\\Covid19-dataset\\train\\Normal\\052.jpeg\n",
      "C:\\Users\\shrey\\Desktop\\Amrita Vishwa Vidyapeetham\\Semester 5\\19CSE305\\ml mini project\\Covid19-dataset\\train\\Normal\\053.jpeg\n",
      "C:\\Users\\shrey\\Desktop\\Amrita Vishwa Vidyapeetham\\Semester 5\\19CSE305\\ml mini project\\Covid19-dataset\\train\\Normal\\054.jpeg\n",
      "C:\\Users\\shrey\\Desktop\\Amrita Vishwa Vidyapeetham\\Semester 5\\19CSE305\\ml mini project\\Covid19-dataset\\train\\Normal\\055.jpeg\n",
      "C:\\Users\\shrey\\Desktop\\Amrita Vishwa Vidyapeetham\\Semester 5\\19CSE305\\ml mini project\\Covid19-dataset\\train\\Normal\\056.jpeg\n",
      "C:\\Users\\shrey\\Desktop\\Amrita Vishwa Vidyapeetham\\Semester 5\\19CSE305\\ml mini project\\Covid19-dataset\\train\\Normal\\057.jpeg\n",
      "C:\\Users\\shrey\\Desktop\\Amrita Vishwa Vidyapeetham\\Semester 5\\19CSE305\\ml mini project\\Covid19-dataset\\train\\Normal\\058.jpeg\n",
      "C:\\Users\\shrey\\Desktop\\Amrita Vishwa Vidyapeetham\\Semester 5\\19CSE305\\ml mini project\\Covid19-dataset\\train\\Normal\\059.jpeg\n",
      "C:\\Users\\shrey\\Desktop\\Amrita Vishwa Vidyapeetham\\Semester 5\\19CSE305\\ml mini project\\Covid19-dataset\\train\\Normal\\06.jpeg\n",
      "C:\\Users\\shrey\\Desktop\\Amrita Vishwa Vidyapeetham\\Semester 5\\19CSE305\\ml mini project\\Covid19-dataset\\train\\Normal\\060.jpeg\n",
      "C:\\Users\\shrey\\Desktop\\Amrita Vishwa Vidyapeetham\\Semester 5\\19CSE305\\ml mini project\\Covid19-dataset\\train\\Normal\\061.jpeg\n",
      "C:\\Users\\shrey\\Desktop\\Amrita Vishwa Vidyapeetham\\Semester 5\\19CSE305\\ml mini project\\Covid19-dataset\\train\\Normal\\062.jpeg\n",
      "C:\\Users\\shrey\\Desktop\\Amrita Vishwa Vidyapeetham\\Semester 5\\19CSE305\\ml mini project\\Covid19-dataset\\train\\Normal\\063.jpeg\n",
      "C:\\Users\\shrey\\Desktop\\Amrita Vishwa Vidyapeetham\\Semester 5\\19CSE305\\ml mini project\\Covid19-dataset\\train\\Normal\\064.jpeg\n",
      "C:\\Users\\shrey\\Desktop\\Amrita Vishwa Vidyapeetham\\Semester 5\\19CSE305\\ml mini project\\Covid19-dataset\\train\\Normal\\065.jpeg\n",
      "C:\\Users\\shrey\\Desktop\\Amrita Vishwa Vidyapeetham\\Semester 5\\19CSE305\\ml mini project\\Covid19-dataset\\train\\Normal\\066.jpeg\n",
      "C:\\Users\\shrey\\Desktop\\Amrita Vishwa Vidyapeetham\\Semester 5\\19CSE305\\ml mini project\\Covid19-dataset\\train\\Normal\\067.jpeg\n",
      "C:\\Users\\shrey\\Desktop\\Amrita Vishwa Vidyapeetham\\Semester 5\\19CSE305\\ml mini project\\Covid19-dataset\\train\\Normal\\068.jpeg\n",
      "C:\\Users\\shrey\\Desktop\\Amrita Vishwa Vidyapeetham\\Semester 5\\19CSE305\\ml mini project\\Covid19-dataset\\train\\Normal\\069.jpeg\n",
      "C:\\Users\\shrey\\Desktop\\Amrita Vishwa Vidyapeetham\\Semester 5\\19CSE305\\ml mini project\\Covid19-dataset\\train\\Normal\\07.jpeg\n",
      "C:\\Users\\shrey\\Desktop\\Amrita Vishwa Vidyapeetham\\Semester 5\\19CSE305\\ml mini project\\Covid19-dataset\\train\\Normal\\070.jpeg\n",
      "C:\\Users\\shrey\\Desktop\\Amrita Vishwa Vidyapeetham\\Semester 5\\19CSE305\\ml mini project\\Covid19-dataset\\train\\Normal\\071.jpeg\n",
      "C:\\Users\\shrey\\Desktop\\Amrita Vishwa Vidyapeetham\\Semester 5\\19CSE305\\ml mini project\\Covid19-dataset\\train\\Normal\\072.jpeg\n",
      "C:\\Users\\shrey\\Desktop\\Amrita Vishwa Vidyapeetham\\Semester 5\\19CSE305\\ml mini project\\Covid19-dataset\\train\\Normal\\073.jpeg\n",
      "C:\\Users\\shrey\\Desktop\\Amrita Vishwa Vidyapeetham\\Semester 5\\19CSE305\\ml mini project\\Covid19-dataset\\train\\Normal\\074.jpeg\n",
      "C:\\Users\\shrey\\Desktop\\Amrita Vishwa Vidyapeetham\\Semester 5\\19CSE305\\ml mini project\\Covid19-dataset\\train\\Normal\\075.jpeg\n",
      "C:\\Users\\shrey\\Desktop\\Amrita Vishwa Vidyapeetham\\Semester 5\\19CSE305\\ml mini project\\Covid19-dataset\\train\\Normal\\076.jpeg\n",
      "C:\\Users\\shrey\\Desktop\\Amrita Vishwa Vidyapeetham\\Semester 5\\19CSE305\\ml mini project\\Covid19-dataset\\train\\Normal\\077.jpeg\n",
      "C:\\Users\\shrey\\Desktop\\Amrita Vishwa Vidyapeetham\\Semester 5\\19CSE305\\ml mini project\\Covid19-dataset\\train\\Normal\\079.jpeg\n",
      "C:\\Users\\shrey\\Desktop\\Amrita Vishwa Vidyapeetham\\Semester 5\\19CSE305\\ml mini project\\Covid19-dataset\\train\\Normal\\08.jpeg\n",
      "C:\\Users\\shrey\\Desktop\\Amrita Vishwa Vidyapeetham\\Semester 5\\19CSE305\\ml mini project\\Covid19-dataset\\train\\Normal\\080.jpeg\n",
      "C:\\Users\\shrey\\Desktop\\Amrita Vishwa Vidyapeetham\\Semester 5\\19CSE305\\ml mini project\\Covid19-dataset\\train\\Normal\\081.jpeg\n",
      "C:\\Users\\shrey\\Desktop\\Amrita Vishwa Vidyapeetham\\Semester 5\\19CSE305\\ml mini project\\Covid19-dataset\\train\\Normal\\082.jpeg\n",
      "C:\\Users\\shrey\\Desktop\\Amrita Vishwa Vidyapeetham\\Semester 5\\19CSE305\\ml mini project\\Covid19-dataset\\train\\Normal\\083.jpeg\n",
      "C:\\Users\\shrey\\Desktop\\Amrita Vishwa Vidyapeetham\\Semester 5\\19CSE305\\ml mini project\\Covid19-dataset\\train\\Normal\\084.jpeg\n",
      "C:\\Users\\shrey\\Desktop\\Amrita Vishwa Vidyapeetham\\Semester 5\\19CSE305\\ml mini project\\Covid19-dataset\\train\\Normal\\085.jpeg\n",
      "C:\\Users\\shrey\\Desktop\\Amrita Vishwa Vidyapeetham\\Semester 5\\19CSE305\\ml mini project\\Covid19-dataset\\train\\Normal\\086.jpeg\n",
      "C:\\Users\\shrey\\Desktop\\Amrita Vishwa Vidyapeetham\\Semester 5\\19CSE305\\ml mini project\\Covid19-dataset\\train\\Normal\\087.jpeg\n",
      "C:\\Users\\shrey\\Desktop\\Amrita Vishwa Vidyapeetham\\Semester 5\\19CSE305\\ml mini project\\Covid19-dataset\\train\\Normal\\088.jpeg\n",
      "C:\\Users\\shrey\\Desktop\\Amrita Vishwa Vidyapeetham\\Semester 5\\19CSE305\\ml mini project\\Covid19-dataset\\train\\Normal\\09.jpeg\n",
      "C:\\Users\\shrey\\Desktop\\Amrita Vishwa Vidyapeetham\\Semester 5\\19CSE305\\ml mini project\\Covid19-dataset\\train\\Normal\\091.jpeg\n",
      "C:\\Users\\shrey\\Desktop\\Amrita Vishwa Vidyapeetham\\Semester 5\\19CSE305\\ml mini project\\Covid19-dataset\\train\\Normal\\092.jpeg\n",
      "C:\\Users\\shrey\\Desktop\\Amrita Vishwa Vidyapeetham\\Semester 5\\19CSE305\\ml mini project\\Covid19-dataset\\train\\Normal\\093.jpeg\n",
      "C:\\Users\\shrey\\Desktop\\Amrita Vishwa Vidyapeetham\\Semester 5\\19CSE305\\ml mini project\\Covid19-dataset\\train\\Normal\\094.jpeg\n",
      "C:\\Users\\shrey\\Desktop\\Amrita Vishwa Vidyapeetham\\Semester 5\\19CSE305\\ml mini project\\Covid19-dataset\\train\\Normal\\095.jpeg\n",
      "C:\\Users\\shrey\\Desktop\\Amrita Vishwa Vidyapeetham\\Semester 5\\19CSE305\\ml mini project\\Covid19-dataset\\train\\Normal\\096.jpeg\n",
      "C:\\Users\\shrey\\Desktop\\Amrita Vishwa Vidyapeetham\\Semester 5\\19CSE305\\ml mini project\\Covid19-dataset\\train\\Normal\\097.jpeg\n",
      "C:\\Users\\shrey\\Desktop\\Amrita Vishwa Vidyapeetham\\Semester 5\\19CSE305\\ml mini project\\Covid19-dataset\\train\\Viral Pneumonia\\01.jpeg\n",
      "C:\\Users\\shrey\\Desktop\\Amrita Vishwa Vidyapeetham\\Semester 5\\19CSE305\\ml mini project\\Covid19-dataset\\train\\Viral Pneumonia\\010.jpeg\n",
      "C:\\Users\\shrey\\Desktop\\Amrita Vishwa Vidyapeetham\\Semester 5\\19CSE305\\ml mini project\\Covid19-dataset\\train\\Viral Pneumonia\\011.jpeg\n",
      "C:\\Users\\shrey\\Desktop\\Amrita Vishwa Vidyapeetham\\Semester 5\\19CSE305\\ml mini project\\Covid19-dataset\\train\\Viral Pneumonia\\012.jpeg\n",
      "C:\\Users\\shrey\\Desktop\\Amrita Vishwa Vidyapeetham\\Semester 5\\19CSE305\\ml mini project\\Covid19-dataset\\train\\Viral Pneumonia\\013.jpeg\n",
      "C:\\Users\\shrey\\Desktop\\Amrita Vishwa Vidyapeetham\\Semester 5\\19CSE305\\ml mini project\\Covid19-dataset\\train\\Viral Pneumonia\\016.jpeg\n",
      "C:\\Users\\shrey\\Desktop\\Amrita Vishwa Vidyapeetham\\Semester 5\\19CSE305\\ml mini project\\Covid19-dataset\\train\\Viral Pneumonia\\018.jpeg\n",
      "C:\\Users\\shrey\\Desktop\\Amrita Vishwa Vidyapeetham\\Semester 5\\19CSE305\\ml mini project\\Covid19-dataset\\train\\Viral Pneumonia\\019.jpeg\n",
      "C:\\Users\\shrey\\Desktop\\Amrita Vishwa Vidyapeetham\\Semester 5\\19CSE305\\ml mini project\\Covid19-dataset\\train\\Viral Pneumonia\\02.jpeg\n",
      "C:\\Users\\shrey\\Desktop\\Amrita Vishwa Vidyapeetham\\Semester 5\\19CSE305\\ml mini project\\Covid19-dataset\\train\\Viral Pneumonia\\020.jpeg\n",
      "C:\\Users\\shrey\\Desktop\\Amrita Vishwa Vidyapeetham\\Semester 5\\19CSE305\\ml mini project\\Covid19-dataset\\train\\Viral Pneumonia\\021.jpeg\n",
      "C:\\Users\\shrey\\Desktop\\Amrita Vishwa Vidyapeetham\\Semester 5\\19CSE305\\ml mini project\\Covid19-dataset\\train\\Viral Pneumonia\\022.jpeg\n",
      "C:\\Users\\shrey\\Desktop\\Amrita Vishwa Vidyapeetham\\Semester 5\\19CSE305\\ml mini project\\Covid19-dataset\\train\\Viral Pneumonia\\023.jpeg\n",
      "C:\\Users\\shrey\\Desktop\\Amrita Vishwa Vidyapeetham\\Semester 5\\19CSE305\\ml mini project\\Covid19-dataset\\train\\Viral Pneumonia\\024.jpeg\n",
      "C:\\Users\\shrey\\Desktop\\Amrita Vishwa Vidyapeetham\\Semester 5\\19CSE305\\ml mini project\\Covid19-dataset\\train\\Viral Pneumonia\\025.jpeg\n",
      "C:\\Users\\shrey\\Desktop\\Amrita Vishwa Vidyapeetham\\Semester 5\\19CSE305\\ml mini project\\Covid19-dataset\\train\\Viral Pneumonia\\027.jpeg\n",
      "C:\\Users\\shrey\\Desktop\\Amrita Vishwa Vidyapeetham\\Semester 5\\19CSE305\\ml mini project\\Covid19-dataset\\train\\Viral Pneumonia\\03.jpeg\n",
      "C:\\Users\\shrey\\Desktop\\Amrita Vishwa Vidyapeetham\\Semester 5\\19CSE305\\ml mini project\\Covid19-dataset\\train\\Viral Pneumonia\\031.jpeg\n",
      "C:\\Users\\shrey\\Desktop\\Amrita Vishwa Vidyapeetham\\Semester 5\\19CSE305\\ml mini project\\Covid19-dataset\\train\\Viral Pneumonia\\032.jpeg\n",
      "C:\\Users\\shrey\\Desktop\\Amrita Vishwa Vidyapeetham\\Semester 5\\19CSE305\\ml mini project\\Covid19-dataset\\train\\Viral Pneumonia\\033.jpeg\n",
      "C:\\Users\\shrey\\Desktop\\Amrita Vishwa Vidyapeetham\\Semester 5\\19CSE305\\ml mini project\\Covid19-dataset\\train\\Viral Pneumonia\\034.jpeg\n",
      "C:\\Users\\shrey\\Desktop\\Amrita Vishwa Vidyapeetham\\Semester 5\\19CSE305\\ml mini project\\Covid19-dataset\\train\\Viral Pneumonia\\035.jpeg\n",
      "C:\\Users\\shrey\\Desktop\\Amrita Vishwa Vidyapeetham\\Semester 5\\19CSE305\\ml mini project\\Covid19-dataset\\train\\Viral Pneumonia\\036.jpeg\n",
      "C:\\Users\\shrey\\Desktop\\Amrita Vishwa Vidyapeetham\\Semester 5\\19CSE305\\ml mini project\\Covid19-dataset\\train\\Viral Pneumonia\\037.jpeg\n",
      "C:\\Users\\shrey\\Desktop\\Amrita Vishwa Vidyapeetham\\Semester 5\\19CSE305\\ml mini project\\Covid19-dataset\\train\\Viral Pneumonia\\038.jpeg\n",
      "C:\\Users\\shrey\\Desktop\\Amrita Vishwa Vidyapeetham\\Semester 5\\19CSE305\\ml mini project\\Covid19-dataset\\train\\Viral Pneumonia\\04.jpeg\n",
      "C:\\Users\\shrey\\Desktop\\Amrita Vishwa Vidyapeetham\\Semester 5\\19CSE305\\ml mini project\\Covid19-dataset\\train\\Viral Pneumonia\\041.jpeg\n",
      "C:\\Users\\shrey\\Desktop\\Amrita Vishwa Vidyapeetham\\Semester 5\\19CSE305\\ml mini project\\Covid19-dataset\\train\\Viral Pneumonia\\042.jpeg\n",
      "C:\\Users\\shrey\\Desktop\\Amrita Vishwa Vidyapeetham\\Semester 5\\19CSE305\\ml mini project\\Covid19-dataset\\train\\Viral Pneumonia\\043.jpeg\n",
      "C:\\Users\\shrey\\Desktop\\Amrita Vishwa Vidyapeetham\\Semester 5\\19CSE305\\ml mini project\\Covid19-dataset\\train\\Viral Pneumonia\\044.jpeg\n",
      "C:\\Users\\shrey\\Desktop\\Amrita Vishwa Vidyapeetham\\Semester 5\\19CSE305\\ml mini project\\Covid19-dataset\\train\\Viral Pneumonia\\045.jpeg\n",
      "C:\\Users\\shrey\\Desktop\\Amrita Vishwa Vidyapeetham\\Semester 5\\19CSE305\\ml mini project\\Covid19-dataset\\train\\Viral Pneumonia\\046.jpeg\n",
      "C:\\Users\\shrey\\Desktop\\Amrita Vishwa Vidyapeetham\\Semester 5\\19CSE305\\ml mini project\\Covid19-dataset\\train\\Viral Pneumonia\\047.jpeg\n",
      "C:\\Users\\shrey\\Desktop\\Amrita Vishwa Vidyapeetham\\Semester 5\\19CSE305\\ml mini project\\Covid19-dataset\\train\\Viral Pneumonia\\048.jpeg\n",
      "C:\\Users\\shrey\\Desktop\\Amrita Vishwa Vidyapeetham\\Semester 5\\19CSE305\\ml mini project\\Covid19-dataset\\train\\Viral Pneumonia\\05.jpeg\n",
      "C:\\Users\\shrey\\Desktop\\Amrita Vishwa Vidyapeetham\\Semester 5\\19CSE305\\ml mini project\\Covid19-dataset\\train\\Viral Pneumonia\\051.jpeg\n",
      "C:\\Users\\shrey\\Desktop\\Amrita Vishwa Vidyapeetham\\Semester 5\\19CSE305\\ml mini project\\Covid19-dataset\\train\\Viral Pneumonia\\052.jpeg\n",
      "C:\\Users\\shrey\\Desktop\\Amrita Vishwa Vidyapeetham\\Semester 5\\19CSE305\\ml mini project\\Covid19-dataset\\train\\Viral Pneumonia\\053.jpeg\n",
      "C:\\Users\\shrey\\Desktop\\Amrita Vishwa Vidyapeetham\\Semester 5\\19CSE305\\ml mini project\\Covid19-dataset\\train\\Viral Pneumonia\\054.jpeg\n",
      "C:\\Users\\shrey\\Desktop\\Amrita Vishwa Vidyapeetham\\Semester 5\\19CSE305\\ml mini project\\Covid19-dataset\\train\\Viral Pneumonia\\055.jpeg\n",
      "C:\\Users\\shrey\\Desktop\\Amrita Vishwa Vidyapeetham\\Semester 5\\19CSE305\\ml mini project\\Covid19-dataset\\train\\Viral Pneumonia\\056.jpeg\n",
      "C:\\Users\\shrey\\Desktop\\Amrita Vishwa Vidyapeetham\\Semester 5\\19CSE305\\ml mini project\\Covid19-dataset\\train\\Viral Pneumonia\\057.jpeg\n",
      "C:\\Users\\shrey\\Desktop\\Amrita Vishwa Vidyapeetham\\Semester 5\\19CSE305\\ml mini project\\Covid19-dataset\\train\\Viral Pneumonia\\058.jpeg\n",
      "C:\\Users\\shrey\\Desktop\\Amrita Vishwa Vidyapeetham\\Semester 5\\19CSE305\\ml mini project\\Covid19-dataset\\train\\Viral Pneumonia\\06.jpeg\n",
      "C:\\Users\\shrey\\Desktop\\Amrita Vishwa Vidyapeetham\\Semester 5\\19CSE305\\ml mini project\\Covid19-dataset\\train\\Viral Pneumonia\\061.jpeg\n",
      "C:\\Users\\shrey\\Desktop\\Amrita Vishwa Vidyapeetham\\Semester 5\\19CSE305\\ml mini project\\Covid19-dataset\\train\\Viral Pneumonia\\062.jpeg\n",
      "C:\\Users\\shrey\\Desktop\\Amrita Vishwa Vidyapeetham\\Semester 5\\19CSE305\\ml mini project\\Covid19-dataset\\train\\Viral Pneumonia\\063.jpeg\n",
      "C:\\Users\\shrey\\Desktop\\Amrita Vishwa Vidyapeetham\\Semester 5\\19CSE305\\ml mini project\\Covid19-dataset\\train\\Viral Pneumonia\\064.jpeg\n",
      "C:\\Users\\shrey\\Desktop\\Amrita Vishwa Vidyapeetham\\Semester 5\\19CSE305\\ml mini project\\Covid19-dataset\\train\\Viral Pneumonia\\065.jpeg\n",
      "C:\\Users\\shrey\\Desktop\\Amrita Vishwa Vidyapeetham\\Semester 5\\19CSE305\\ml mini project\\Covid19-dataset\\train\\Viral Pneumonia\\066.jpeg\n",
      "C:\\Users\\shrey\\Desktop\\Amrita Vishwa Vidyapeetham\\Semester 5\\19CSE305\\ml mini project\\Covid19-dataset\\train\\Viral Pneumonia\\067.jpeg\n",
      "C:\\Users\\shrey\\Desktop\\Amrita Vishwa Vidyapeetham\\Semester 5\\19CSE305\\ml mini project\\Covid19-dataset\\train\\Viral Pneumonia\\068.jpeg\n",
      "C:\\Users\\shrey\\Desktop\\Amrita Vishwa Vidyapeetham\\Semester 5\\19CSE305\\ml mini project\\Covid19-dataset\\train\\Viral Pneumonia\\07.jpeg\n",
      "C:\\Users\\shrey\\Desktop\\Amrita Vishwa Vidyapeetham\\Semester 5\\19CSE305\\ml mini project\\Covid19-dataset\\train\\Viral Pneumonia\\071.jpeg\n",
      "C:\\Users\\shrey\\Desktop\\Amrita Vishwa Vidyapeetham\\Semester 5\\19CSE305\\ml mini project\\Covid19-dataset\\train\\Viral Pneumonia\\072.jpeg\n",
      "C:\\Users\\shrey\\Desktop\\Amrita Vishwa Vidyapeetham\\Semester 5\\19CSE305\\ml mini project\\Covid19-dataset\\train\\Viral Pneumonia\\073.jpeg\n",
      "C:\\Users\\shrey\\Desktop\\Amrita Vishwa Vidyapeetham\\Semester 5\\19CSE305\\ml mini project\\Covid19-dataset\\train\\Viral Pneumonia\\074.jpeg\n",
      "C:\\Users\\shrey\\Desktop\\Amrita Vishwa Vidyapeetham\\Semester 5\\19CSE305\\ml mini project\\Covid19-dataset\\train\\Viral Pneumonia\\075.jpeg\n",
      "C:\\Users\\shrey\\Desktop\\Amrita Vishwa Vidyapeetham\\Semester 5\\19CSE305\\ml mini project\\Covid19-dataset\\train\\Viral Pneumonia\\076.jpeg\n",
      "C:\\Users\\shrey\\Desktop\\Amrita Vishwa Vidyapeetham\\Semester 5\\19CSE305\\ml mini project\\Covid19-dataset\\train\\Viral Pneumonia\\077.jpeg\n",
      "C:\\Users\\shrey\\Desktop\\Amrita Vishwa Vidyapeetham\\Semester 5\\19CSE305\\ml mini project\\Covid19-dataset\\train\\Viral Pneumonia\\078.jpeg\n",
      "C:\\Users\\shrey\\Desktop\\Amrita Vishwa Vidyapeetham\\Semester 5\\19CSE305\\ml mini project\\Covid19-dataset\\train\\Viral Pneumonia\\08.jpeg\n",
      "C:\\Users\\shrey\\Desktop\\Amrita Vishwa Vidyapeetham\\Semester 5\\19CSE305\\ml mini project\\Covid19-dataset\\train\\Viral Pneumonia\\081.jpeg\n",
      "C:\\Users\\shrey\\Desktop\\Amrita Vishwa Vidyapeetham\\Semester 5\\19CSE305\\ml mini project\\Covid19-dataset\\train\\Viral Pneumonia\\082.jpeg\n",
      "C:\\Users\\shrey\\Desktop\\Amrita Vishwa Vidyapeetham\\Semester 5\\19CSE305\\ml mini project\\Covid19-dataset\\train\\Viral Pneumonia\\083.jpeg\n",
      "C:\\Users\\shrey\\Desktop\\Amrita Vishwa Vidyapeetham\\Semester 5\\19CSE305\\ml mini project\\Covid19-dataset\\train\\Viral Pneumonia\\084.jpeg\n",
      "C:\\Users\\shrey\\Desktop\\Amrita Vishwa Vidyapeetham\\Semester 5\\19CSE305\\ml mini project\\Covid19-dataset\\train\\Viral Pneumonia\\09.jpeg\n",
      "C:\\Users\\shrey\\Desktop\\Amrita Vishwa Vidyapeetham\\Semester 5\\19CSE305\\ml mini project\\Covid19-dataset\\train\\Viral Pneumonia\\094.jpeg\n",
      "C:\\Users\\shrey\\Desktop\\Amrita Vishwa Vidyapeetham\\Semester 5\\19CSE305\\ml mini project\\Covid19-dataset\\train\\Viral Pneumonia\\095.jpeg\n",
      "C:\\Users\\shrey\\Desktop\\Amrita Vishwa Vidyapeetham\\Semester 5\\19CSE305\\ml mini project\\Covid19-dataset\\train\\Viral Pneumonia\\096.jpeg\n"
     ]
    }
   ],
   "source": [
    "import os\n",
    "for dirname, _, filenames in os.walk('C:\\\\Users\\\\shrey\\\\Desktop\\\\Amrita Vishwa Vidyapeetham\\\\Semester 5\\\\19CSE305\\\\ml mini project'):\n",
    "    for filename in filenames:\n",
    "        print(os.path.join(dirname, filename))"
   ]
  },
  {
   "cell_type": "code",
   "execution_count": 6,
   "metadata": {},
   "outputs": [],
   "source": [
    "from tensorflow.keras.layers import Dense,Flatten,MaxPool2D,Dropout,Conv2D,InputLayer\n",
    "from tensorflow.keras.preprocessing.image import load_img\n",
    "from tensorflow.keras.models import Sequential\n",
    "from tensorflow.keras.utils import to_categorical\n",
    "from tensorflow.keras.optimizers import Adam\n",
    "from sklearn.metrics import classification_report\n",
    "from sklearn.preprocessing import LabelBinarizer\n",
    "import pandas as pd\n",
    "import numpy as np\n",
    "import matplotlib.pyplot as plt\n",
    "import cv2\n",
    "import os"
   ]
  },
  {
   "cell_type": "code",
   "execution_count": 7,
   "metadata": {},
   "outputs": [],
   "source": [
    "train_dir = r\"C:\\\\Users\\\\shrey\\\\Desktop\\\\Amrita Vishwa Vidyapeetham\\\\Semester 5\\\\19CSE305\\\\ml mini project\\\\Covid19-dataset\\\\train\\\\\"\n",
    "test_dir = r\"C:\\\\Users\\\\shrey\\\\Desktop\\\\Amrita Vishwa Vidyapeetham\\\\Semester 5\\\\19CSE305\\\\ml mini project\\\\Covid19-dataset\\\\test\\\\\"\n"
   ]
  },
  {
   "cell_type": "code",
   "execution_count": 8,
   "metadata": {},
   "outputs": [],
   "source": [
    "categories = ['Covid','Normal']\n",
    "y_train = []\n",
    "x_train = []\n",
    "x_test = []\n",
    "y_test = []\n",
    "Batch_Size = 32\n",
    "INIT_LR = 1e-4\n",
    "EPOCHES = 10"
   ]
  },
  {
   "cell_type": "code",
   "execution_count": 9,
   "metadata": {},
   "outputs": [],
   "source": [
    "for category in categories:\n",
    "    path = os.path.join(train_dir,category)\n",
    "    for img in os.listdir(path):\n",
    "        img_path = os.path.join(path,img)\n",
    "        image = cv2.imread(img_path)\n",
    "        image = cv2.resize(image,(500,500))\n",
    "        image = image / 255\n",
    "        x_train.append(image)\n",
    "        y_train.append(category)"
   ]
  },
  {
   "cell_type": "code",
   "execution_count": 10,
   "metadata": {},
   "outputs": [
    {
     "data": {
      "text/plain": [
       "array([[[0.03529412, 0.03529412, 0.03529412],\n",
       "        [0.03137255, 0.03137255, 0.03137255],\n",
       "        [0.03137255, 0.03137255, 0.03137255],\n",
       "        ...,\n",
       "        [0.05098039, 0.05098039, 0.05098039],\n",
       "        [0.05882353, 0.05882353, 0.05882353],\n",
       "        [0.05098039, 0.05098039, 0.05098039]],\n",
       "\n",
       "       [[0.03137255, 0.03137255, 0.03137255],\n",
       "        [0.02745098, 0.02745098, 0.02745098],\n",
       "        [0.02745098, 0.02745098, 0.02745098],\n",
       "        ...,\n",
       "        [0.03529412, 0.03529412, 0.03529412],\n",
       "        [0.05098039, 0.05098039, 0.05098039],\n",
       "        [0.05490196, 0.05490196, 0.05490196]],\n",
       "\n",
       "       [[0.03137255, 0.03137255, 0.03137255],\n",
       "        [0.03137255, 0.03137255, 0.03137255],\n",
       "        [0.02352941, 0.02352941, 0.02352941],\n",
       "        ...,\n",
       "        [0.03137255, 0.03137255, 0.03137255],\n",
       "        [0.03529412, 0.03529412, 0.03529412],\n",
       "        [0.05098039, 0.05098039, 0.05098039]],\n",
       "\n",
       "       ...,\n",
       "\n",
       "       [[0.        , 0.        , 0.        ],\n",
       "        [0.        , 0.        , 0.        ],\n",
       "        [0.        , 0.        , 0.        ],\n",
       "        ...,\n",
       "        [0.02745098, 0.02745098, 0.02745098],\n",
       "        [0.02745098, 0.02745098, 0.02745098],\n",
       "        [0.02745098, 0.02745098, 0.02745098]],\n",
       "\n",
       "       [[0.        , 0.        , 0.        ],\n",
       "        [0.        , 0.        , 0.        ],\n",
       "        [0.        , 0.        , 0.        ],\n",
       "        ...,\n",
       "        [0.03137255, 0.03137255, 0.03137255],\n",
       "        [0.03137255, 0.03137255, 0.03137255],\n",
       "        [0.03137255, 0.03137255, 0.03137255]],\n",
       "\n",
       "       [[0.        , 0.        , 0.        ],\n",
       "        [0.        , 0.        , 0.        ],\n",
       "        [0.        , 0.        , 0.        ],\n",
       "        ...,\n",
       "        [0.03137255, 0.03137255, 0.03137255],\n",
       "        [0.03137255, 0.03137255, 0.03137255],\n",
       "        [0.03137255, 0.03137255, 0.03137255]]])"
      ]
     },
     "execution_count": 10,
     "metadata": {},
     "output_type": "execute_result"
    }
   ],
   "source": [
    "x_train[0]"
   ]
  },
  {
   "cell_type": "code",
   "execution_count": 11,
   "metadata": {},
   "outputs": [
    {
     "data": {
      "text/plain": [
       "['Covid', 'Covid', 'Covid', 'Covid', 'Covid']"
      ]
     },
     "execution_count": 11,
     "metadata": {},
     "output_type": "execute_result"
    }
   ],
   "source": [
    "y_train[:5]"
   ]
  },
  {
   "cell_type": "code",
   "execution_count": 12,
   "metadata": {},
   "outputs": [],
   "source": [
    "for category in categories:\n",
    "    path = os.path.join(test_dir,category)\n",
    "    for img in os.listdir(path):\n",
    "        img_path = os.path.join(path,img)\n",
    "        image = cv2.imread(img_path)\n",
    "        image = cv2.resize(image,(500,500))\n",
    "        image = image / 255\n",
    "        x_test.append(image)\n",
    "        y_test.append(category)"
   ]
  },
  {
   "cell_type": "code",
   "execution_count": 13,
   "metadata": {},
   "outputs": [
    {
     "data": {
      "text/plain": [
       "array([[[0.97647059, 0.97647059, 0.97647059],\n",
       "        [0.96862745, 0.96862745, 0.96862745],\n",
       "        [0.96862745, 0.96862745, 0.96862745],\n",
       "        ...,\n",
       "        [0.87058824, 0.87058824, 0.87058824],\n",
       "        [0.85098039, 0.85098039, 0.85098039],\n",
       "        [0.85098039, 0.85098039, 0.85098039]],\n",
       "\n",
       "       [[0.99215686, 0.99215686, 0.99215686],\n",
       "        [0.97254902, 0.97254902, 0.97254902],\n",
       "        [0.96470588, 0.96470588, 0.96470588],\n",
       "        ...,\n",
       "        [0.62352941, 0.62352941, 0.62352941],\n",
       "        [0.61960784, 0.61960784, 0.61960784],\n",
       "        [0.61960784, 0.61960784, 0.61960784]],\n",
       "\n",
       "       [[0.85882353, 0.85882353, 0.85882353],\n",
       "        [0.81960784, 0.81960784, 0.81960784],\n",
       "        [0.79607843, 0.79607843, 0.79607843],\n",
       "        ...,\n",
       "        [0.12156863, 0.12156863, 0.12156863],\n",
       "        [0.11764706, 0.11764706, 0.11764706],\n",
       "        [0.11764706, 0.11764706, 0.11764706]],\n",
       "\n",
       "       ...,\n",
       "\n",
       "       [[0.02352941, 0.02352941, 0.02352941],\n",
       "        [0.02352941, 0.02352941, 0.02352941],\n",
       "        [0.02352941, 0.02352941, 0.02352941],\n",
       "        ...,\n",
       "        [0.02745098, 0.02745098, 0.02745098],\n",
       "        [0.02352941, 0.02352941, 0.02352941],\n",
       "        [0.02352941, 0.02352941, 0.02352941]],\n",
       "\n",
       "       [[0.02352941, 0.02352941, 0.02352941],\n",
       "        [0.02352941, 0.02352941, 0.02352941],\n",
       "        [0.02352941, 0.02352941, 0.02352941],\n",
       "        ...,\n",
       "        [0.02745098, 0.02745098, 0.02745098],\n",
       "        [0.02352941, 0.02352941, 0.02352941],\n",
       "        [0.02352941, 0.02352941, 0.02352941]],\n",
       "\n",
       "       [[0.02352941, 0.02352941, 0.02352941],\n",
       "        [0.02352941, 0.02352941, 0.02352941],\n",
       "        [0.02352941, 0.02352941, 0.02352941],\n",
       "        ...,\n",
       "        [0.02745098, 0.02745098, 0.02745098],\n",
       "        [0.02352941, 0.02352941, 0.02352941],\n",
       "        [0.02352941, 0.02352941, 0.02352941]]])"
      ]
     },
     "execution_count": 13,
     "metadata": {},
     "output_type": "execute_result"
    }
   ],
   "source": [
    "x_test[0]"
   ]
  },
  {
   "cell_type": "code",
   "execution_count": 14,
   "metadata": {},
   "outputs": [],
   "source": [
    "lb = LabelBinarizer()\n",
    "y_train = lb.fit_transform(y_train)\n",
    "y_train = to_categorical(y_train,num_classes=2)\n",
    "y_test = lb.fit_transform(y_test)\n",
    "y_test = to_categorical(y_test,num_classes=2)"
   ]
  },
  {
   "cell_type": "code",
   "execution_count": 15,
   "metadata": {},
   "outputs": [],
   "source": [
    "x_train = np.array(x_train,dtype='float32')\n",
    "y_train = np.array(y_train,dtype='float32')\n",
    "x_test = np.array(x_test,dtype='float32')\n",
    "y_test = np.array(y_test,dtype='float32')\n"
   ]
  },
  {
   "cell_type": "code",
   "execution_count": 16,
   "metadata": {},
   "outputs": [],
   "source": [
    "model = Sequential()\n",
    "model.add(InputLayer(input_shape=(500,500,3)))\n",
    "model.add(Conv2D(32,kernel_size=(2,2),activation='relu'))\n",
    "model.add(MaxPool2D(pool_size=(2,2)))\n",
    "model.add(Conv2D(64,kernel_size=(2,2),activation='relu'))\n",
    "model.add(MaxPool2D(pool_size=(2,2)))\n",
    "model.add(Conv2D(128,kernel_size=(2,2),activation='relu'))\n",
    "model.add(MaxPool2D(pool_size=(2,2)))\n",
    "model.add(Flatten())\n",
    "model.add(Dense(128,activation='relu'))\n",
    "model.add(Dropout(.5))\n",
    "model.add(Dense(2,activation='softmax'))"
   ]
  },
  {
   "cell_type": "code",
   "execution_count": 17,
   "metadata": {},
   "outputs": [],
   "source": [
    "opt = Adam(learning_rate=INIT_LR,decay=INIT_LR/Batch_Size)"
   ]
  },
  {
   "cell_type": "code",
   "execution_count": 18,
   "metadata": {},
   "outputs": [],
   "source": [
    "model.compile(optimizer=opt,loss='categorical_crossentropy',metrics=['accuracy'])"
   ]
  },
  {
   "cell_type": "code",
   "execution_count": 19,
   "metadata": {},
   "outputs": [
    {
     "name": "stdout",
     "output_type": "stream",
     "text": [
      "Epoch 1/10\n",
      "5/5 [==============================] - 15s 2s/step - loss: 0.9704 - accuracy: 0.5437\n",
      "Epoch 2/10\n",
      "5/5 [==============================] - 11s 2s/step - loss: 0.4518 - accuracy: 0.7785\n",
      "Epoch 3/10\n",
      "5/5 [==============================] - 11s 2s/step - loss: 0.3054 - accuracy: 0.8993\n",
      "Epoch 4/10\n",
      "5/5 [==============================] - 10s 2s/step - loss: 0.2314 - accuracy: 0.9329\n",
      "Epoch 5/10\n",
      "5/5 [==============================] - 10s 2s/step - loss: 0.1742 - accuracy: 0.9664\n",
      "Epoch 6/10\n",
      "5/5 [==============================] - 11s 2s/step - loss: 0.1539 - accuracy: 0.9530\n",
      "Epoch 7/10\n",
      "5/5 [==============================] - 11s 2s/step - loss: 0.1133 - accuracy: 0.9750\n",
      "Epoch 8/10\n",
      "5/5 [==============================] - 12s 3s/step - loss: 0.0848 - accuracy: 0.9799\n",
      "Epoch 9/10\n",
      "5/5 [==============================] - 11s 2s/step - loss: 0.0684 - accuracy: 0.9799\n",
      "Epoch 10/10\n",
      "5/5 [==============================] - 11s 2s/step - loss: 0.0825 - accuracy: 0.9799\n"
     ]
    }
   ],
   "source": [
    "validation_steps = len(y_test) // Batch_Size\n",
    "History = model.fit(\n",
    "    x_train,\n",
    "    y_train,\n",
    "    epochs=EPOCHES,\n",
    "    steps_per_epoch=len(x_train)//Batch_Size,\n",
    "    batch_size=Batch_Size,\n",
    "    validation_steps=validation_steps\n",
    ")"
   ]
  },
  {
   "cell_type": "code",
   "execution_count": 20,
   "metadata": {},
   "outputs": [
    {
     "name": "stdout",
     "output_type": "stream",
     "text": [
      "2/2 [==============================] - 2s 448ms/step\n"
     ]
    }
   ],
   "source": [
    "pred_result = model.predict(x_test,batch_size=Batch_Size)\n",
    "pred_result = np.argmax(pred_result,axis=1)"
   ]
  },
  {
   "cell_type": "code",
   "execution_count": 22,
   "metadata": {},
   "outputs": [
    {
     "data": {
      "text/plain": [
       "array([0, 0, 0, 0, 0, 0, 0, 0, 0, 1, 0, 0, 0, 0, 0, 0, 0, 0, 0, 0, 0, 0,\n",
       "       0, 0, 0, 1, 1, 1, 1, 1, 1, 1, 1, 1, 1, 1, 1, 1, 1, 1, 1, 1, 1, 1,\n",
       "       1, 1], dtype=int64)"
      ]
     },
     "execution_count": 22,
     "metadata": {},
     "output_type": "execute_result"
    }
   ],
   "source": [
    "pred_result"
   ]
  },
  {
   "cell_type": "code",
   "execution_count": 38,
   "metadata": {},
   "outputs": [
    {
     "name": "stdout",
     "output_type": "stream",
     "text": [
      "Classifiation Report:\n",
      "               precision    recall  f1-score   support\n",
      "\n",
      "       Covid       1.00      0.92      0.96        26\n",
      "      Normal       0.91      1.00      0.95        20\n",
      "\n",
      "    accuracy                           0.96        46\n",
      "   macro avg       0.95      0.96      0.96        46\n",
      "weighted avg       0.96      0.96      0.96        46\n",
      "\n"
     ]
    }
   ],
   "source": [
    "print(f\"Classifiation Report:\\n {classification_report(y_test.argmax(axis=1),pred_result,target_names=lb.classes_)}\")"
   ]
  },
  {
   "cell_type": "code",
   "execution_count": 23,
   "metadata": {},
   "outputs": [
    {
     "data": {
      "image/png": "[encoded data removed]",
      "text/plain": [
       "<Figure size 1000x600 with 1 Axes>"
      ]
     },
     "metadata": {},
     "output_type": "display_data"
    }
   ],
   "source": [
    "plt.figure(figsize=(10,6))\n",
    "plt.plot(np.arange(0,10),History.history['accuracy'],label='train_accuracy')\n",
    "plt.plot(np.arange(0,10),History.history['loss'],label='train_loss')\n",
    "plt.xlabel('Epoches')\n",
    "plt.ylabel('Loss-Accuracy')\n",
    "plt.title('Training Process')\n",
    "plt.legend(loc='lower left')\n",
    "plt.show()"
   ]
  }
 ],
 "metadata": {
  "kernelspec": {
   "display_name": "DL",
   "language": "python",
   "name": "python3"
  },
  "language_info": {
   "codemirror_mode": {
    "name": "ipython",
    "version": 3
   },
   "file_extension": ".py",
   "mimetype": "text/x-python",
   "name": "python",
   "nbconvert_exporter": "python",
   "pygments_lexer": "ipython3",
   "version": "3.10.12"
  }
 },
 "nbformat": 4,
 "nbformat_minor": 2
}

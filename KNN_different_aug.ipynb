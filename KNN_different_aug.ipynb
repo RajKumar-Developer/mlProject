{
 "cells": [
  {
   "cell_type": "markdown",
   "metadata": {},
   "source": [
    "# KNN MODEL"
   ]
  },
  {
   "cell_type": "markdown",
   "metadata": {},
   "source": [
    "#### LIBRARY IMPORT"
   ]
  },
  {
   "cell_type": "code",
   "execution_count": 33,
   "metadata": {},
   "outputs": [],
   "source": [
    "import os\n",
    "import cv2\n",
    "import numpy as np\n",
    "import random\n",
    "import seaborn as sns\n",
    "import matplotlib.pyplot as plt\n"
   ]
  },
  {
   "cell_type": "markdown",
   "metadata": {},
   "source": [
    "#### DIRECTORY IMPORT"
   ]
  },
  {
   "cell_type": "code",
   "execution_count": 21,
   "metadata": {},
   "outputs": [],
   "source": [
    "\n",
    "train_dir = 'C:\\\\Users\\\\DELL\\\\Documents\\\\Amrita\\\\Codes\\\\Sem_5_Codes\\\\Covid19-dataset\\\\train\\\\'\n",
    "test_dir= 'C:\\\\Users\\\\DELL\\\\Documents\\\\Amrita\\\\Codes\\\\Sem_5_Codes\\\\Covid19-dataset\\\\test\\\\'\n",
    "\n",
    "augmented_train_dir_all_in_one='C:\\\\Users\\\\DELL\\\\Documents\\\\Amrita\\\\Codes\\\\Sem_5_Codes\\\\Covid19-dataset\\\\augmented_train_all_in_one'\n",
    "\n",
    "if not os.path.exists(augmented_train_dir_all_in_one):\n",
    "    os.makedirs(augmented_train_dir_all_in_one)\n",
    "    \n"
   ]
  },
  {
   "cell_type": "code",
   "execution_count": 22,
   "metadata": {},
   "outputs": [],
   "source": [
    "target_size=(256,256)"
   ]
  },
  {
   "cell_type": "markdown",
   "metadata": {},
   "source": [
    "#### ALL IN ONE"
   ]
  },
  {
   "cell_type": "code",
   "execution_count": 23,
   "metadata": {},
   "outputs": [],
   "source": [
    "def augmenter2(input_path, output_dir):\n",
    "    image = cv2.imread(input_path)\n",
    "    image = cv2.resize(image, target_size)  \n",
    "\n",
    "    noisy_image = image.copy()\n",
    "    rotated_image = image.copy()\n",
    "    flipped_image = image.copy()\n",
    "\n",
    "   \n",
    "    noise = np.random.normal(0, 25, noisy_image.shape).astype(np.uint8)\n",
    "    noisy_image = cv2.add(noisy_image, noise)\n",
    "\n",
    "\n",
    "    angle = np.random.uniform(-15, 15)\n",
    "    height, width = rotated_image.shape[:2]\n",
    "    rotation_matrix = cv2.getRotationMatrix2D((width / 2, height / 2), angle, 1)\n",
    "    rotated_image = cv2.warpAffine(rotated_image, rotation_matrix, (width, height))\n",
    "\n",
    "\n",
    "    if np.random.rand() < 0.5:\n",
    "        flipped_image = cv2.flip(flipped_image, 1)\n",
    "\n",
    "\n",
    "    base_filename = os.path.splitext(os.path.basename(input_path))[0]\n",
    "\n",
    "    cv2.imwrite(os.path.join(output_dir, f'{base_filename}_noisy_rotate_flip.jpg'), flipped_image)\n",
    "\n",
    "\n",
    "labels = ['Covid', 'Normal']\n",
    "\n",
    "\n",
    "for label in labels:\n",
    "    train_dir_path = os.path.join(train_dir, label)\n",
    "    aug_path = os.path.join(augmented_train_dir_all_in_one, label)\n",
    "    if not os.path.exists(aug_path):\n",
    "        os.makedirs(aug_path)\n",
    "    for root, dirs, files in os.walk(train_dir_path):\n",
    "        for file in files:\n",
    "            if file.lower().endswith(('.jpg', '.jpeg', '.png')):\n",
    "                image_path = os.path.join(root, file)\n",
    "                augmenter2(image_path, aug_path)\n"
   ]
  },
  {
   "cell_type": "markdown",
   "metadata": {},
   "source": [
    "### image to vector form conversion function"
   ]
  },
  {
   "cell_type": "markdown",
   "metadata": {},
   "source": [
    "##### ALL IN ONE"
   ]
  },
  {
   "cell_type": "code",
   "execution_count": 24,
   "metadata": {},
   "outputs": [],
   "source": [
    "\n",
    "from sklearn.neighbors import KNeighborsClassifier\n",
    "from sklearn.metrics import accuracy_score, precision_score, recall_score, f1_score"
   ]
  },
  {
   "cell_type": "code",
   "execution_count": 25,
   "metadata": {},
   "outputs": [],
   "source": [
    "train_dir = augmented_train_dir_all_in_one\n",
    "\n",
    "\n",
    "feature_vectors = []\n",
    "labels = []\n",
    "\n",
    "for label in os.listdir(train_dir):\n",
    "    label_dir = os.path.join(train_dir, label)\n",
    "    for image_name in os.listdir(label_dir):\n",
    "        image_path = os.path.join(label_dir, image_name)\n",
    "        image = cv2.imread(image_path)\n",
    "\n",
    "\n",
    "        feature_vector = image.flatten()\n",
    "        feature_vectors.append(feature_vector)\n",
    "        labels.append(0 if label == 'Covid' else 1)\n",
    "\n",
    "X_train = np.array(feature_vectors)\n",
    "y_train = np.array(labels)\n",
    "\n",
    "feature_vectors1 = []\n",
    "labels1 = []\n",
    "\n",
    "for label in os.listdir(test_dir):\n",
    "    label_dir = os.path.join(test_dir, label)\n",
    "    for image_name in os.listdir(label_dir):\n",
    "        image_path = os.path.join(label_dir, image_name)\n",
    "        image = cv2.imread(image_path)\n",
    "\n",
    "        image = cv2.resize(image, target_size)\n",
    "\n",
    "        feature_vector1 = image.flatten()\n",
    "        feature_vectors1.append(feature_vector1)\n",
    "        labels1.append(0 if label == 'Covid' else 1)\n",
    "\n",
    "X_test = np.array(feature_vectors1)\n",
    "y_test = np.array(labels1)\n",
    "\n",
    "\n"
   ]
  },
  {
   "cell_type": "code",
   "execution_count": 26,
   "metadata": {},
   "outputs": [
    {
     "data": {
      "text/plain": [
       "array([0, 0, 0, 0, 0, 0, 0, 0, 0, 0, 0, 0, 0, 0, 0, 0, 0, 0, 0, 0, 0, 0,\n",
       "       0, 0, 0, 0, 1, 1, 1, 1, 1, 1, 1, 1, 1, 1, 1, 1, 1, 1, 1, 1, 1, 1,\n",
       "       1, 1])"
      ]
     },
     "execution_count": 26,
     "metadata": {},
     "output_type": "execute_result"
    }
   ],
   "source": [
    "y_test"
   ]
  },
  {
   "cell_type": "markdown",
   "metadata": {},
   "source": [
    "### KNN MODEL TRANING\n"
   ]
  },
  {
   "cell_type": "markdown",
   "metadata": {},
   "source": [
    "#### ALL IN ONE"
   ]
  },
  {
   "cell_type": "markdown",
   "metadata": {},
   "source": [
    "##### k=3"
   ]
  },
  {
   "cell_type": "code",
   "execution_count": 27,
   "metadata": {},
   "outputs": [
    {
     "name": "stdout",
     "output_type": "stream",
     "text": [
      "Accuracy: 0.93\n",
      "Precision: 0.87\n",
      "Recall: 1.00\n",
      "F1 Score: 0.93\n"
     ]
    }
   ],
   "source": [
    "\n",
    "knn_classifier = KNeighborsClassifier(n_neighbors=3)\n",
    "\n",
    "knn_classifier.fit(X_train, y_train)\n",
    "\n",
    "y_pred = knn_classifier.predict(X_test)\n",
    "\n",
    "\n",
    "accuracy = accuracy_score(y_test, y_pred)\n",
    "precision = precision_score(y_test, y_pred)\n",
    "recall = recall_score(y_test, y_pred)\n",
    "f1 = f1_score(y_test, y_pred)\n",
    "\n",
    "\n",
    "print(f'Accuracy: {accuracy:.2f}')\n",
    "print(f'Precision: {precision:.2f}')\n",
    "print(f'Recall: {recall:.2f}')\n",
    "print(f'F1 Score: {f1:.2f}')\n"
   ]
  },
  {
   "cell_type": "markdown",
   "metadata": {},
   "source": [
    "#### Finding the value of k resulting in the maximum accuracy"
   ]
  },
  {
   "cell_type": "code",
   "execution_count": 28,
   "metadata": {},
   "outputs": [
    {
     "name": "stdout",
     "output_type": "stream",
     "text": [
      "The 1st best 'k' value is: 1, with an accuracy of 0.9782608695652174\n",
      "The 2st best 'k' value is: 2, with an accuracy of 0.9782608695652174\n",
      "The 3st best 'k' value is: 6, with an accuracy of 0.9782608695652174\n"
     ]
    }
   ],
   "source": [
    "\n",
    "k_values = range(1, 100)  \n",
    "k_accuracy_list = []\n",
    "\n",
    "for k in k_values:\n",
    "    knn_classifier = KNeighborsClassifier(n_neighbors=k)\n",
    "    knn_classifier.fit(X_train, y_train)\n",
    "    y_pred = knn_classifier.predict(X_test)\n",
    "\n",
    "    accuracy = accuracy_score(y_test, y_pred)\n",
    "\n",
    "    k_accuracy_list.append((k, accuracy))\n",
    "\n",
    "k_accuracy_list.sort(key=lambda x: x[1], reverse=True)\n",
    "\n",
    "for i in range(3):\n",
    "    k, accuracy = k_accuracy_list[i]\n",
    "    print(f\"The {i+1}st best 'k' value is: {k}, with an accuracy of {accuracy}\")\n"
   ]
  },
  {
   "cell_type": "code",
   "execution_count": 29,
   "metadata": {},
   "outputs": [
    {
     "data": {
      "text/plain": [
       "[(1, 0.9782608695652174),\n",
       " (2, 0.9782608695652174),\n",
       " (6, 0.9782608695652174),\n",
       " (7, 0.9565217391304348),\n",
       " (8, 0.9565217391304348),\n",
       " (9, 0.9565217391304348),\n",
       " (10, 0.9565217391304348),\n",
       " (11, 0.9565217391304348),\n",
       " (12, 0.9565217391304348),\n",
       " (13, 0.9565217391304348),\n",
       " (14, 0.9565217391304348),\n",
       " (15, 0.9565217391304348),\n",
       " (16, 0.9565217391304348),\n",
       " (17, 0.9565217391304348),\n",
       " (18, 0.9565217391304348),\n",
       " (19, 0.9565217391304348),\n",
       " (20, 0.9565217391304348),\n",
       " (21, 0.9565217391304348),\n",
       " (23, 0.9565217391304348),\n",
       " (24, 0.9565217391304348),\n",
       " (25, 0.9565217391304348),\n",
       " (27, 0.9565217391304348),\n",
       " (28, 0.9565217391304348),\n",
       " (29, 0.9565217391304348),\n",
       " (62, 0.9565217391304348),\n",
       " (3, 0.9347826086956522),\n",
       " (4, 0.9347826086956522),\n",
       " (5, 0.9347826086956522),\n",
       " (22, 0.9347826086956522),\n",
       " (26, 0.9347826086956522),\n",
       " (30, 0.9347826086956522),\n",
       " (31, 0.9347826086956522),\n",
       " (32, 0.9347826086956522),\n",
       " (33, 0.9347826086956522),\n",
       " (34, 0.9347826086956522),\n",
       " (35, 0.9347826086956522),\n",
       " (36, 0.9347826086956522),\n",
       " (37, 0.9347826086956522),\n",
       " (38, 0.9347826086956522),\n",
       " (39, 0.9347826086956522),\n",
       " (40, 0.9347826086956522),\n",
       " (41, 0.9347826086956522),\n",
       " (42, 0.9347826086956522),\n",
       " (43, 0.9347826086956522),\n",
       " (44, 0.9347826086956522),\n",
       " (45, 0.9347826086956522),\n",
       " (46, 0.9347826086956522),\n",
       " (47, 0.9347826086956522),\n",
       " (48, 0.9347826086956522),\n",
       " (49, 0.9347826086956522),\n",
       " (50, 0.9347826086956522),\n",
       " (51, 0.9347826086956522),\n",
       " (52, 0.9347826086956522),\n",
       " (53, 0.9347826086956522),\n",
       " (54, 0.9347826086956522),\n",
       " (55, 0.9347826086956522),\n",
       " (56, 0.9347826086956522),\n",
       " (57, 0.9347826086956522),\n",
       " (58, 0.9347826086956522),\n",
       " (59, 0.9347826086956522),\n",
       " (60, 0.9347826086956522),\n",
       " (64, 0.9347826086956522),\n",
       " (65, 0.9347826086956522),\n",
       " (66, 0.9347826086956522),\n",
       " (67, 0.9347826086956522),\n",
       " (68, 0.9347826086956522),\n",
       " (69, 0.9347826086956522),\n",
       " (70, 0.9347826086956522),\n",
       " (71, 0.9347826086956522),\n",
       " (72, 0.9347826086956522),\n",
       " (73, 0.9347826086956522),\n",
       " (74, 0.9347826086956522),\n",
       " (75, 0.9347826086956522),\n",
       " (76, 0.9347826086956522),\n",
       " (77, 0.9347826086956522),\n",
       " (78, 0.9347826086956522),\n",
       " (79, 0.9347826086956522),\n",
       " (80, 0.9347826086956522),\n",
       " (81, 0.9347826086956522),\n",
       " (82, 0.9347826086956522),\n",
       " (83, 0.9347826086956522),\n",
       " (84, 0.9347826086956522),\n",
       " (85, 0.9347826086956522),\n",
       " (86, 0.9347826086956522),\n",
       " (87, 0.9347826086956522),\n",
       " (88, 0.9347826086956522),\n",
       " (89, 0.9347826086956522),\n",
       " (90, 0.9347826086956522),\n",
       " (91, 0.9347826086956522),\n",
       " (92, 0.9347826086956522),\n",
       " (93, 0.9347826086956522),\n",
       " (94, 0.9347826086956522),\n",
       " (95, 0.9347826086956522),\n",
       " (96, 0.9347826086956522),\n",
       " (97, 0.9347826086956522),\n",
       " (98, 0.9347826086956522),\n",
       " (99, 0.9347826086956522),\n",
       " (61, 0.9130434782608695),\n",
       " (63, 0.9130434782608695)]"
      ]
     },
     "execution_count": 29,
     "metadata": {},
     "output_type": "execute_result"
    }
   ],
   "source": [
    "k_accuracy_list"
   ]
  },
  {
   "cell_type": "code",
   "execution_count": 31,
   "metadata": {},
   "outputs": [],
   "source": [
    "from sklearn.metrics import confusion_matrix\n"
   ]
  },
  {
   "cell_type": "code",
   "execution_count": 34,
   "metadata": {},
   "outputs": [
    {
     "data": {
      "image/png": "[encoded data removed]",
      "text/plain": [
       "<Figure size 800x600 with 1 Axes>"
      ]
     },
     "metadata": {},
     "output_type": "display_data"
    }
   ],
   "source": [
    "conf_matrix = confusion_matrix(y_test, y_pred)\n",
    "\n",
    "plt.figure(figsize=(8, 6))\n",
    "sns.heatmap(conf_matrix, annot=True, fmt='d', cmap='Blues', cbar=False)\n",
    "plt.xlabel('Predicted')\n",
    "plt.ylabel('Actual')\n",
    "plt.xticks([0, 1], ['Normal', 'COVID-19'])\n",
    "plt.yticks([0, 1], ['Normal', 'COVID-19'])\n",
    "plt.title('Confusion Matrix')\n",
    "plt.show()\n"
   ]
  }
 ],
 "metadata": {
  "kernelspec": {
   "display_name": "Python 3",
   "language": "python",
   "name": "python3"
  },
  "language_info": {
   "codemirror_mode": {
    "name": "ipython",
    "version": 3
   },
   "file_extension": ".py",
   "mimetype": "text/x-python",
   "name": "python",
   "nbconvert_exporter": "python",
   "pygments_lexer": "ipython3",
   "version": "3.11.6"
  }
 },
 "nbformat": 4,
 "nbformat_minor": 2
}

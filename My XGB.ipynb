{
 "cells": [
  {
   "cell_type": "markdown",
   "metadata": {},
   "source": [
    "# XGB MODEL"
   ]
  },
  {
   "cell_type": "markdown",
   "metadata": {},
   "source": [
    "#### LIBRARY IMPORT"
   ]
  },
  {
   "cell_type": "code",
   "execution_count": 1,
   "metadata": {},
   "outputs": [],
   "source": [
    "import os\n",
    "import cv2\n",
    "import numpy as np\n",
    "import random\n",
    "import seaborn as sns\n",
    "import matplotlib.pyplot as plt\n"
   ]
  },
  {
   "cell_type": "markdown",
   "metadata": {},
   "source": [
    "#### DIRECTORY IMPORT"
   ]
  },
  {
   "cell_type": "code",
   "execution_count": 2,
   "metadata": {},
   "outputs": [],
   "source": [
    "\n",
    "train_dir = 'C:\\\\Users\\\\DELL\\\\Documents\\\\Amrita\\\\Codes\\\\Sem_5_Codes\\\\Covid19-dataset\\\\train\\\\'\n",
    "test_dir= 'C:\\\\Users\\\\DELL\\\\Documents\\\\Amrita\\\\Codes\\\\Sem_5_Codes\\\\Covid19-dataset\\\\test\\\\'\n",
    "\n",
    "augmented_train_dir_one_in_one = 'C:\\\\Users\\\\DELL\\\\Documents\\\\Amrita\\\\Codes\\\\Sem_5_Codes\\\\Covid19-dataset\\\\augmented_train_one_in_one'\n",
    "\n",
    "\n",
    "if not os.path.exists(augmented_train_dir_one_in_one):\n",
    "    os.makedirs(augmented_train_dir_one_in_one)\n",
    "    "
   ]
  },
  {
   "cell_type": "code",
   "execution_count": 3,
   "metadata": {},
   "outputs": [],
   "source": [
    "target_size=(256,256)"
   ]
  },
  {
   "cell_type": "markdown",
   "metadata": {},
   "source": [
    "#### ONE IN ONE"
   ]
  },
  {
   "cell_type": "code",
   "execution_count": 4,
   "metadata": {},
   "outputs": [],
   "source": [
    "\n",
    "def augmenter1(input_path, output_dir):  #augmenter1= onepic will have three diff alter-egos \n",
    "    unresized_image = cv2.imread(input_path)\n",
    "    image = cv2.resize(unresized_image, target_size)\n",
    "\n",
    "    noisy_image = image.copy()\n",
    "    rotated_image = image.copy()\n",
    "    flipped_image = image.copy()\n",
    "\n",
    "    noise = np.random.normal(0, 25, noisy_image.shape).astype(np.uint8)\n",
    "    noisy_image = cv2.add(noisy_image, noise)\n",
    "\n",
    "    angle = 15\n",
    "    height, width = rotated_image.shape[:2]\n",
    "    rotation_matrix = cv2.getRotationMatrix2D((width / 2, height / 2), angle, 1)\n",
    "    rotated_image = cv2.warpAffine(rotated_image, rotation_matrix, (width, height))\n",
    "\n",
    "    flipped_image = cv2.flip(flipped_image, 1)\n",
    "\n",
    "    base_filename = os.path.splitext(os.path.basename(input_path))[0]\n",
    "    cv2.imwrite(os.path.join(output_dir, f'{base_filename}_noise.jpg'), noisy_image)\n",
    "    cv2.imwrite(os.path.join(output_dir, f'{base_filename}_rotate.jpg'), rotated_image)\n",
    "    cv2.imwrite(os.path.join(output_dir, f'{base_filename}_flip.jpg'), flipped_image)\n",
    "\n",
    "types = ['Covid', 'Normal']\n",
    "\n",
    "for i in types:\n",
    "    train_dir_path = os.path.join(train_dir, i)\n",
    "    aug_path = os.path.join(augmented_train_dir_one_in_one, i)  \n",
    "    if not os.path.exists(aug_path):\n",
    "        os.makedirs(aug_path)\n",
    "    for root, dirs, files in os.walk(train_dir_path):\n",
    "        for file in files:\n",
    "            if file.lower().endswith(('.jpg', '.jpeg', '.png')): \n",
    "                image_path = os.path.join(root, file)\n",
    "                augmenter1(image_path, aug_path)\n"
   ]
  },
  {
   "cell_type": "markdown",
   "metadata": {},
   "source": [
    "### image to vector form conversion function"
   ]
  },
  {
   "cell_type": "markdown",
   "metadata": {},
   "source": [
    "##### ONE IN ONE"
   ]
  },
  {
   "cell_type": "code",
   "execution_count": 5,
   "metadata": {},
   "outputs": [],
   "source": [
    "from sklearn.neighbors import KNeighborsClassifier\n",
    "from sklearn.metrics import accuracy_score, precision_score, recall_score, f1_score"
   ]
  },
  {
   "cell_type": "code",
   "execution_count": 6,
   "metadata": {},
   "outputs": [],
   "source": [
    "train_dir = augmented_train_dir_one_in_one\n",
    "\n",
    "\n",
    "feature_vectors = []\n",
    "labels = []\n",
    "\n",
    "for label in os.listdir(train_dir):\n",
    "    label_dir = os.path.join(train_dir, label)\n",
    "    for image_name in os.listdir(label_dir):\n",
    "        image_path = os.path.join(label_dir, image_name)\n",
    "        image = cv2.imread(image_path)\n",
    "\n",
    "\n",
    "        feature_vector = image.flatten()\n",
    "        feature_vectors.append(feature_vector)\n",
    "        labels.append(0 if label == 'Covid' else 1)\n",
    "\n",
    "X_train = np.array(feature_vectors)\n",
    "y_train = np.array(labels)\n",
    "\n",
    "feature_vectors1 = []\n",
    "labels1 = []\n",
    "\n",
    "for label in os.listdir(test_dir):\n",
    "    label_dir = os.path.join(test_dir, label)\n",
    "    for image_name in os.listdir(label_dir):\n",
    "        image_path = os.path.join(label_dir, image_name)\n",
    "        image = cv2.imread(image_path)\n",
    "\n",
    "        image = cv2.resize(image, target_size)\n",
    "        \n",
    "        feature_vector1 = image.flatten()\n",
    "        feature_vectors1.append(feature_vector1)\n",
    "        labels1.append(0 if label == 'Covid' else 1)\n",
    "\n",
    "X_test = np.array(feature_vectors1)\n",
    "y_test = np.array(labels1)\n",
    "\n",
    "\n"
   ]
  },
  {
   "cell_type": "code",
   "execution_count": 7,
   "metadata": {},
   "outputs": [
    {
     "data": {
      "text/plain": [
       "array([0, 0, 0, 0, 0, 0, 0, 0, 0, 0, 0, 0, 0, 0, 0, 0, 0, 0, 0, 0, 0, 0,\n",
       "       0, 0, 0, 0, 1, 1, 1, 1, 1, 1, 1, 1, 1, 1, 1, 1, 1, 1, 1, 1, 1, 1,\n",
       "       1, 1])"
      ]
     },
     "execution_count": 7,
     "metadata": {},
     "output_type": "execute_result"
    }
   ],
   "source": [
    "y_test"
   ]
  },
  {
   "cell_type": "markdown",
   "metadata": {},
   "source": [
    "### KNN MODEL TRANING\n"
   ]
  },
  {
   "cell_type": "markdown",
   "metadata": {},
   "source": [
    "#### ONE IN ONE"
   ]
  },
  {
   "cell_type": "markdown",
   "metadata": {},
   "source": [
    "##### k=3"
   ]
  },
  {
   "cell_type": "code",
   "execution_count": 8,
   "metadata": {},
   "outputs": [
    {
     "ename": "XGBoostError",
     "evalue": "[10:28:20] C:\\buildkite-agent\\builds\\buildkite-windows-cpu-autoscaling-group-i-07f6e447eee219473-1\\xgboost\\xgboost-ci-windows\\src\\common\\io.h:232: bad_malloc: Failed to allocate 13541250368 bytes.",
     "output_type": "error",
     "traceback": [
      "\u001b[1;31m---------------------------------------------------------------------------\u001b[0m",
      "\u001b[1;31mXGBoostError\u001b[0m                              Traceback (most recent call last)",
      "\u001b[1;32mc:\\Users\\DELL\\Documents\\Amrita\\Codes\\Sem_5_Codes\\mlProjectUI\\My XGB.ipynb Cell 17\u001b[0m line \u001b[0;36m8\n\u001b[0;32m      <a href='vscode-notebook-cell:/c%3A/Users/DELL/Documents/Amrita/Codes/Sem_5_Codes/mlProjectUI/My%20XGB.ipynb#X22sZmlsZQ%3D%3D?line=2'>3</a>\u001b[0m \u001b[39mfrom\u001b[39;00m \u001b[39msklearn\u001b[39;00m\u001b[39m.\u001b[39;00m\u001b[39mmetrics\u001b[39;00m \u001b[39mimport\u001b[39;00m classification_report, accuracy_score\n\u001b[0;32m      <a href='vscode-notebook-cell:/c%3A/Users/DELL/Documents/Amrita/Codes/Sem_5_Codes/mlProjectUI/My%20XGB.ipynb#X22sZmlsZQ%3D%3D?line=6'>7</a>\u001b[0m model \u001b[39m=\u001b[39m xgb\u001b[39m.\u001b[39mXGBClassifier(objective\u001b[39m=\u001b[39m\u001b[39m\"\u001b[39m\u001b[39mbinary:logistic\u001b[39m\u001b[39m\"\u001b[39m, eval_metric\u001b[39m=\u001b[39m\u001b[39m'\u001b[39m\u001b[39mlogloss\u001b[39m\u001b[39m'\u001b[39m)\n\u001b[1;32m----> <a href='vscode-notebook-cell:/c%3A/Users/DELL/Documents/Amrita/Codes/Sem_5_Codes/mlProjectUI/My%20XGB.ipynb#X22sZmlsZQ%3D%3D?line=7'>8</a>\u001b[0m model\u001b[39m.\u001b[39;49mfit(X_train, y_train)\n\u001b[0;32m     <a href='vscode-notebook-cell:/c%3A/Users/DELL/Documents/Amrita/Codes/Sem_5_Codes/mlProjectUI/My%20XGB.ipynb#X22sZmlsZQ%3D%3D?line=9'>10</a>\u001b[0m cross_val_score(model, X_train, y_train, cv\u001b[39m=\u001b[39m\u001b[39m5\u001b[39m)\n\u001b[0;32m     <a href='vscode-notebook-cell:/c%3A/Users/DELL/Documents/Amrita/Codes/Sem_5_Codes/mlProjectUI/My%20XGB.ipynb#X22sZmlsZQ%3D%3D?line=11'>12</a>\u001b[0m \u001b[39m# 5. Model Evaluation\u001b[39;00m\n",
      "File \u001b[1;32m~\\AppData\\Local\\Packages\\PythonSoftwareFoundation.Python.3.11_qbz5n2kfra8p0\\LocalCache\\local-packages\\Python311\\site-packages\\xgboost\\core.py:729\u001b[0m, in \u001b[0;36mrequire_keyword_args.<locals>.throw_if.<locals>.inner_f\u001b[1;34m(*args, **kwargs)\u001b[0m\n\u001b[0;32m    727\u001b[0m \u001b[39mfor\u001b[39;00m k, arg \u001b[39min\u001b[39;00m \u001b[39mzip\u001b[39m(sig\u001b[39m.\u001b[39mparameters, args):\n\u001b[0;32m    728\u001b[0m     kwargs[k] \u001b[39m=\u001b[39m arg\n\u001b[1;32m--> 729\u001b[0m \u001b[39mreturn\u001b[39;00m func(\u001b[39m*\u001b[39;49m\u001b[39m*\u001b[39;49mkwargs)\n",
      "File \u001b[1;32m~\\AppData\\Local\\Packages\\PythonSoftwareFoundation.Python.3.11_qbz5n2kfra8p0\\LocalCache\\local-packages\\Python311\\site-packages\\xgboost\\sklearn.py:1515\u001b[0m, in \u001b[0;36mXGBClassifier.fit\u001b[1;34m(self, X, y, sample_weight, base_margin, eval_set, eval_metric, early_stopping_rounds, verbose, xgb_model, sample_weight_eval_set, base_margin_eval_set, feature_weights, callbacks)\u001b[0m\n\u001b[0;32m   1487\u001b[0m (\n\u001b[0;32m   1488\u001b[0m     model,\n\u001b[0;32m   1489\u001b[0m     metric,\n\u001b[1;32m   (...)\u001b[0m\n\u001b[0;32m   1494\u001b[0m     xgb_model, eval_metric, params, early_stopping_rounds, callbacks\n\u001b[0;32m   1495\u001b[0m )\n\u001b[0;32m   1496\u001b[0m train_dmatrix, evals \u001b[39m=\u001b[39m _wrap_evaluation_matrices(\n\u001b[0;32m   1497\u001b[0m     missing\u001b[39m=\u001b[39m\u001b[39mself\u001b[39m\u001b[39m.\u001b[39mmissing,\n\u001b[0;32m   1498\u001b[0m     X\u001b[39m=\u001b[39mX,\n\u001b[1;32m   (...)\u001b[0m\n\u001b[0;32m   1512\u001b[0m     feature_types\u001b[39m=\u001b[39m\u001b[39mself\u001b[39m\u001b[39m.\u001b[39mfeature_types,\n\u001b[0;32m   1513\u001b[0m )\n\u001b[1;32m-> 1515\u001b[0m \u001b[39mself\u001b[39m\u001b[39m.\u001b[39m_Booster \u001b[39m=\u001b[39m train(\n\u001b[0;32m   1516\u001b[0m     params,\n\u001b[0;32m   1517\u001b[0m     train_dmatrix,\n\u001b[0;32m   1518\u001b[0m     \u001b[39mself\u001b[39;49m\u001b[39m.\u001b[39;49mget_num_boosting_rounds(),\n\u001b[0;32m   1519\u001b[0m     evals\u001b[39m=\u001b[39;49mevals,\n\u001b[0;32m   1520\u001b[0m     early_stopping_rounds\u001b[39m=\u001b[39;49mearly_stopping_rounds,\n\u001b[0;32m   1521\u001b[0m     evals_result\u001b[39m=\u001b[39;49mevals_result,\n\u001b[0;32m   1522\u001b[0m     obj\u001b[39m=\u001b[39;49mobj,\n\u001b[0;32m   1523\u001b[0m     custom_metric\u001b[39m=\u001b[39;49mmetric,\n\u001b[0;32m   1524\u001b[0m     verbose_eval\u001b[39m=\u001b[39;49mverbose,\n\u001b[0;32m   1525\u001b[0m     xgb_model\u001b[39m=\u001b[39;49mmodel,\n\u001b[0;32m   1526\u001b[0m     callbacks\u001b[39m=\u001b[39;49mcallbacks,\n\u001b[0;32m   1527\u001b[0m )\n\u001b[0;32m   1529\u001b[0m \u001b[39mif\u001b[39;00m \u001b[39mnot\u001b[39;00m \u001b[39mcallable\u001b[39m(\u001b[39mself\u001b[39m\u001b[39m.\u001b[39mobjective):\n\u001b[0;32m   1530\u001b[0m     \u001b[39mself\u001b[39m\u001b[39m.\u001b[39mobjective \u001b[39m=\u001b[39m params[\u001b[39m\"\u001b[39m\u001b[39mobjective\u001b[39m\u001b[39m\"\u001b[39m]\n",
      "File \u001b[1;32m~\\AppData\\Local\\Packages\\PythonSoftwareFoundation.Python.3.11_qbz5n2kfra8p0\\LocalCache\\local-packages\\Python311\\site-packages\\xgboost\\core.py:729\u001b[0m, in \u001b[0;36mrequire_keyword_args.<locals>.throw_if.<locals>.inner_f\u001b[1;34m(*args, **kwargs)\u001b[0m\n\u001b[0;32m    727\u001b[0m \u001b[39mfor\u001b[39;00m k, arg \u001b[39min\u001b[39;00m \u001b[39mzip\u001b[39m(sig\u001b[39m.\u001b[39mparameters, args):\n\u001b[0;32m    728\u001b[0m     kwargs[k] \u001b[39m=\u001b[39m arg\n\u001b[1;32m--> 729\u001b[0m \u001b[39mreturn\u001b[39;00m func(\u001b[39m*\u001b[39;49m\u001b[39m*\u001b[39;49mkwargs)\n",
      "File \u001b[1;32m~\\AppData\\Local\\Packages\\PythonSoftwareFoundation.Python.3.11_qbz5n2kfra8p0\\LocalCache\\local-packages\\Python311\\site-packages\\xgboost\\training.py:181\u001b[0m, in \u001b[0;36mtrain\u001b[1;34m(params, dtrain, num_boost_round, evals, obj, feval, maximize, early_stopping_rounds, evals_result, verbose_eval, xgb_model, callbacks, custom_metric)\u001b[0m\n\u001b[0;32m    179\u001b[0m \u001b[39mif\u001b[39;00m cb_container\u001b[39m.\u001b[39mbefore_iteration(bst, i, dtrain, evals):\n\u001b[0;32m    180\u001b[0m     \u001b[39mbreak\u001b[39;00m\n\u001b[1;32m--> 181\u001b[0m bst\u001b[39m.\u001b[39;49mupdate(dtrain, i, obj)\n\u001b[0;32m    182\u001b[0m \u001b[39mif\u001b[39;00m cb_container\u001b[39m.\u001b[39mafter_iteration(bst, i, dtrain, evals):\n\u001b[0;32m    183\u001b[0m     \u001b[39mbreak\u001b[39;00m\n",
      "File \u001b[1;32m~\\AppData\\Local\\Packages\\PythonSoftwareFoundation.Python.3.11_qbz5n2kfra8p0\\LocalCache\\local-packages\\Python311\\site-packages\\xgboost\\core.py:2049\u001b[0m, in \u001b[0;36mBooster.update\u001b[1;34m(self, dtrain, iteration, fobj)\u001b[0m\n\u001b[0;32m   2046\u001b[0m \u001b[39mself\u001b[39m\u001b[39m.\u001b[39m_assign_dmatrix_features(dtrain)\n\u001b[0;32m   2048\u001b[0m \u001b[39mif\u001b[39;00m fobj \u001b[39mis\u001b[39;00m \u001b[39mNone\u001b[39;00m:\n\u001b[1;32m-> 2049\u001b[0m     _check_call(\n\u001b[0;32m   2050\u001b[0m         _LIB\u001b[39m.\u001b[39;49mXGBoosterUpdateOneIter(\n\u001b[0;32m   2051\u001b[0m             \u001b[39mself\u001b[39;49m\u001b[39m.\u001b[39;49mhandle, ctypes\u001b[39m.\u001b[39;49mc_int(iteration), dtrain\u001b[39m.\u001b[39;49mhandle\n\u001b[0;32m   2052\u001b[0m         )\n\u001b[0;32m   2053\u001b[0m     )\n\u001b[0;32m   2054\u001b[0m \u001b[39melse\u001b[39;00m:\n\u001b[0;32m   2055\u001b[0m     pred \u001b[39m=\u001b[39m \u001b[39mself\u001b[39m\u001b[39m.\u001b[39mpredict(dtrain, output_margin\u001b[39m=\u001b[39m\u001b[39mTrue\u001b[39;00m, training\u001b[39m=\u001b[39m\u001b[39mTrue\u001b[39;00m)\n",
      "File \u001b[1;32m~\\AppData\\Local\\Packages\\PythonSoftwareFoundation.Python.3.11_qbz5n2kfra8p0\\LocalCache\\local-packages\\Python311\\site-packages\\xgboost\\core.py:281\u001b[0m, in \u001b[0;36m_check_call\u001b[1;34m(ret)\u001b[0m\n\u001b[0;32m    270\u001b[0m \u001b[39m\u001b[39m\u001b[39m\"\"\"Check the return value of C API call\u001b[39;00m\n\u001b[0;32m    271\u001b[0m \n\u001b[0;32m    272\u001b[0m \u001b[39mThis function will raise exception when error occurs.\u001b[39;00m\n\u001b[1;32m   (...)\u001b[0m\n\u001b[0;32m    278\u001b[0m \u001b[39m    return value from API calls\u001b[39;00m\n\u001b[0;32m    279\u001b[0m \u001b[39m\"\"\"\u001b[39;00m\n\u001b[0;32m    280\u001b[0m \u001b[39mif\u001b[39;00m ret \u001b[39m!=\u001b[39m \u001b[39m0\u001b[39m:\n\u001b[1;32m--> 281\u001b[0m     \u001b[39mraise\u001b[39;00m XGBoostError(py_str(_LIB\u001b[39m.\u001b[39mXGBGetLastError()))\n",
      "\u001b[1;31mXGBoostError\u001b[0m: [10:28:20] C:\\buildkite-agent\\builds\\buildkite-windows-cpu-autoscaling-group-i-07f6e447eee219473-1\\xgboost\\xgboost-ci-windows\\src\\common\\io.h:232: bad_malloc: Failed to allocate 13541250368 bytes."
     ]
    }
   ],
   "source": [
    "\n",
    "from sklearn.model_selection import train_test_split,GridSearchCV, cross_val_score\n",
    "import xgboost as xgb\n",
    "from sklearn.metrics import classification_report, accuracy_score\n",
    "\n",
    "\n",
    "\n",
    "model = xgb.XGBClassifier(objective=\"binary:logistic\", eval_metric='logloss')\n",
    "model.fit(X_train, y_train)\n",
    "\n",
    "cross_val_score(model, X_train, y_train, cv=5)\n",
    "\n",
    "# 5. Model Evaluation\n",
    "\n",
    "\n",
    "print(f'Accuracy: {accuracy:.2f}')\n",
    "print(f'Precision: {precision:.2f}')\n",
    "print(f'Recall: {recall:.2f}')\n",
    "print(f'F1 Score: {f1:.2f}')\n"
   ]
  },
  {
   "cell_type": "markdown",
   "metadata": {},
   "source": [
    "#### Finding the value of k resulting in the maximum accuracy"
   ]
  },
  {
   "cell_type": "code",
   "execution_count": null,
   "metadata": {},
   "outputs": [
    {
     "name": "stdout",
     "output_type": "stream",
     "text": [
      "The 1st best 'k' value is: 1, with an accuracy of 0.9347826086956522\n",
      "The 2st best 'k' value is: 3, with an accuracy of 0.9347826086956522\n",
      "The 3st best 'k' value is: 7, with an accuracy of 0.9347826086956522\n"
     ]
    }
   ],
   "source": [
    "\n",
    "k_values = range(1, 100)  \n",
    "k_accuracy_list = []\n",
    "\n",
    "for k in k_values:\n",
    "    knn_classifier = KNeighborsClassifier(n_neighbors=k)\n",
    "    knn_classifier.fit(X_train, y_train)\n",
    "    y_pred = knn_classifier.predict(X_test)\n",
    "\n",
    "    accuracy = accuracy_score(y_test, y_pred)\n",
    "\n",
    "    k_accuracy_list.append((k, accuracy))\n",
    "\n",
    "k_accuracy_list.sort(key=lambda x: x[1], reverse=True)\n",
    "\n",
    "for i in range(3):\n",
    "    k, accuracy = k_accuracy_list[i]\n",
    "    print(f\"The {i+1}st best 'k' value is: {k}, with an accuracy of {accuracy}\")\n"
   ]
  },
  {
   "cell_type": "code",
   "execution_count": null,
   "metadata": {},
   "outputs": [
    {
     "data": {
      "text/plain": [
       "[(1, 0.9347826086956522),\n",
       " (3, 0.9347826086956522),\n",
       " (7, 0.9347826086956522),\n",
       " (8, 0.9347826086956522),\n",
       " (9, 0.9347826086956522),\n",
       " (64, 0.9347826086956522),\n",
       " (65, 0.9347826086956522),\n",
       " (66, 0.9347826086956522),\n",
       " (67, 0.9347826086956522),\n",
       " (68, 0.9347826086956522),\n",
       " (69, 0.9347826086956522),\n",
       " (70, 0.9347826086956522),\n",
       " (71, 0.9347826086956522),\n",
       " (72, 0.9347826086956522),\n",
       " (73, 0.9347826086956522),\n",
       " (74, 0.9347826086956522),\n",
       " (75, 0.9347826086956522),\n",
       " (76, 0.9347826086956522),\n",
       " (77, 0.9347826086956522),\n",
       " (78, 0.9347826086956522),\n",
       " (79, 0.9347826086956522),\n",
       " (80, 0.9347826086956522),\n",
       " (81, 0.9347826086956522),\n",
       " (82, 0.9347826086956522),\n",
       " (83, 0.9347826086956522),\n",
       " (84, 0.9347826086956522),\n",
       " (85, 0.9347826086956522),\n",
       " (86, 0.9347826086956522),\n",
       " (87, 0.9347826086956522),\n",
       " (88, 0.9347826086956522),\n",
       " (89, 0.9347826086956522),\n",
       " (90, 0.9347826086956522),\n",
       " (91, 0.9347826086956522),\n",
       " (92, 0.9347826086956522),\n",
       " (93, 0.9347826086956522),\n",
       " (94, 0.9347826086956522),\n",
       " (95, 0.9347826086956522),\n",
       " (96, 0.9347826086956522),\n",
       " (97, 0.9347826086956522),\n",
       " (98, 0.9347826086956522),\n",
       " (99, 0.9347826086956522),\n",
       " (4, 0.9130434782608695),\n",
       " (5, 0.9130434782608695),\n",
       " (6, 0.9130434782608695),\n",
       " (10, 0.9130434782608695),\n",
       " (11, 0.9130434782608695),\n",
       " (12, 0.9130434782608695),\n",
       " (13, 0.9130434782608695),\n",
       " (14, 0.9130434782608695),\n",
       " (15, 0.9130434782608695),\n",
       " (17, 0.9130434782608695),\n",
       " (21, 0.9130434782608695),\n",
       " (22, 0.9130434782608695),\n",
       " (23, 0.9130434782608695),\n",
       " (24, 0.9130434782608695),\n",
       " (25, 0.9130434782608695),\n",
       " (31, 0.9130434782608695),\n",
       " (33, 0.9130434782608695),\n",
       " (34, 0.9130434782608695),\n",
       " (35, 0.9130434782608695),\n",
       " (36, 0.9130434782608695),\n",
       " (37, 0.9130434782608695),\n",
       " (38, 0.9130434782608695),\n",
       " (39, 0.9130434782608695),\n",
       " (40, 0.9130434782608695),\n",
       " (41, 0.9130434782608695),\n",
       " (42, 0.9130434782608695),\n",
       " (43, 0.9130434782608695),\n",
       " (44, 0.9130434782608695),\n",
       " (45, 0.9130434782608695),\n",
       " (46, 0.9130434782608695),\n",
       " (47, 0.9130434782608695),\n",
       " (48, 0.9130434782608695),\n",
       " (49, 0.9130434782608695),\n",
       " (50, 0.9130434782608695),\n",
       " (51, 0.9130434782608695),\n",
       " (52, 0.9130434782608695),\n",
       " (53, 0.9130434782608695),\n",
       " (54, 0.9130434782608695),\n",
       " (55, 0.9130434782608695),\n",
       " (56, 0.9130434782608695),\n",
       " (57, 0.9130434782608695),\n",
       " (58, 0.9130434782608695),\n",
       " (59, 0.9130434782608695),\n",
       " (60, 0.9130434782608695),\n",
       " (61, 0.9130434782608695),\n",
       " (62, 0.9130434782608695),\n",
       " (63, 0.9130434782608695),\n",
       " (16, 0.8913043478260869),\n",
       " (19, 0.8913043478260869),\n",
       " (20, 0.8913043478260869),\n",
       " (26, 0.8913043478260869),\n",
       " (27, 0.8913043478260869),\n",
       " (28, 0.8913043478260869),\n",
       " (29, 0.8913043478260869),\n",
       " (30, 0.8913043478260869),\n",
       " (32, 0.8913043478260869),\n",
       " (18, 0.8695652173913043),\n",
       " (2, 0.8478260869565217)]"
      ]
     },
     "execution_count": 57,
     "metadata": {},
     "output_type": "execute_result"
    }
   ],
   "source": [
    "k_accuracy_list"
   ]
  },
  {
   "cell_type": "code",
   "execution_count": null,
   "metadata": {},
   "outputs": [],
   "source": [
    "from sklearn.metrics import confusion_matrix\n"
   ]
  },
  {
   "cell_type": "code",
   "execution_count": null,
   "metadata": {},
   "outputs": [
    {
     "data": {
      "image/png": "[encoded data removed]",
      "text/plain": [
       "<Figure size 800x600 with 1 Axes>"
      ]
     },
     "metadata": {},
     "output_type": "display_data"
    }
   ],
   "source": [
    "conf_matrix = confusion_matrix(y_test, y_pred)\n",
    "\n",
    "plt.figure(figsize=(8, 6))\n",
    "sns.heatmap(conf_matrix, annot=True, fmt='d', cmap='Blues', cbar=False)\n",
    "plt.xlabel('Predicted')\n",
    "plt.ylabel('Actual')\n",
    "plt.xticks([0, 1], ['Normal', 'COVID-19'])\n",
    "plt.yticks([0, 1], ['Normal', 'COVID-19'])\n",
    "plt.title('Confusion Matrix')\n",
    "plt.show()\n"
   ]
  }
 ],
 "metadata": {
  "kernelspec": {
   "display_name": "Python 3",
   "language": "python",
   "name": "python3"
  },
  "language_info": {
   "codemirror_mode": {
    "name": "ipython",
    "version": 3
   },
   "file_extension": ".py",
   "mimetype": "text/x-python",
   "name": "python",
   "nbconvert_exporter": "python",
   "pygments_lexer": "ipython3",
   "version": "3.11.6"
  }
 },
 "nbformat": 4,
 "nbformat_minor": 2
}
